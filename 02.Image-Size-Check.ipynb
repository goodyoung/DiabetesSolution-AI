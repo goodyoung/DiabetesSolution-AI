{
 "cells": [
  {
   "cell_type": "code",
   "execution_count": 1,
   "id": "9ab75dc5-059e-465c-852c-bca2a2a0052d",
   "metadata": {},
   "outputs": [],
   "source": [
    "from pathlib import Path\n",
    "import cv2"
   ]
  },
  {
   "cell_type": "code",
   "execution_count": 2,
   "id": "e01f19ab-ea40-458e-9804-3e831381d433",
   "metadata": {},
   "outputs": [],
   "source": [
    "# HOME = Path.home()\n",
    "HOME = Path(\"/mnt/d/Jupyter-Goodyoung\")\n",
    "dataset = HOME / \"diabetes/data/\"\n",
    "TRAIN = dataset / \"Train\"\n",
    "VALID = dataset / \"Valid\""
   ]
  },
  {
   "cell_type": "code",
   "execution_count": 3,
   "id": "fe5af15d-e59e-462f-8d24-24bf47b47763",
   "metadata": {},
   "outputs": [
    {
     "name": "stdout",
     "output_type": "stream",
     "text": [
      "Differ\n"
     ]
    },
    {
     "data": {
      "text/plain": [
       "True"
      ]
     },
     "execution_count": 3,
     "metadata": {},
     "output_type": "execute_result"
    }
   ],
   "source": [
    "TL = TRAIN / \"TL\" # Train Label\n",
    "TS = TRAIN / \"TS\"\n",
    "\n",
    "# TL, TS 디렉토리의 하위 디렉토리 목록 가져오기\n",
    "TL_directories = list(filter(Path.is_dir, TL.iterdir()))\n",
    "TS_directories = list(filter(Path.is_dir, TS.iterdir()))\n",
    "\n",
    "# 대분류 디렉토리 목록 불러오기\n",
    "def get_all_main_dir(directory_list):\n",
    "    return [subdir for directory in directory_list for subdir in directory.iterdir() if subdir.is_dir()]\n",
    "\n",
    "TL_subdirectories = get_all_main_dir(TL_directories)\n",
    "TS_subdirectories = get_all_main_dir(TS_directories)\n",
    "\n",
    "#  대분류 밑 파일 가져오기\n",
    "def get_all_files(directory_list, extension):\n",
    "    return [file.as_posix() for directory in directory_list for file in directory.rglob(\"*.\" + extension) if file.is_file()] # rglob -> 하위 디렉토리에서 다 찾음\n",
    "\n",
    "TL_files = get_all_files(TL_subdirectories, \"json\")\n",
    "TS_files = get_all_files(TS_subdirectories, \"jpg\")\n",
    "\n",
    "# 파일 개수 비교하여 맞추기\n",
    "if len(TL_files) != len(TS_files):\n",
    "    print(\"Differ\")\n",
    "    TL_files = TL_files[:len(TS_files)]\n",
    "\n",
    "len(TL_files) == len(TS_files)"
   ]
  },
  {
   "cell_type": "code",
   "execution_count": 14,
   "id": "80d7a524-674a-49e2-9c97-e84464479729",
   "metadata": {},
   "outputs": [
    {
     "data": {
      "text/plain": [
       "'/mnt/d/Jupyter-Goodyoung/diabetes/data/Train/TS/TS1/A/13/A13001/30/정위/A_13_A13001_가자미구이_30_09.jpg'"
      ]
     },
     "execution_count": 14,
     "metadata": {},
     "output_type": "execute_result"
    }
   ],
   "source": [
    "TS_files[0].as_posix()"
   ]
  },
  {
   "cell_type": "code",
   "execution_count": null,
   "id": "ede3d664-6a04-4feb-943a-f8cd86980239",
   "metadata": {},
   "outputs": [],
   "source": []
  },
  {
   "cell_type": "code",
   "execution_count": null,
   "id": "f4e68668-74bf-437f-a137-fcf93c7e91f3",
   "metadata": {},
   "outputs": [],
   "source": []
  },
  {
   "cell_type": "code",
   "execution_count": 20,
   "id": "bc08dec1-e9f7-4e9b-b761-1c53740503af",
   "metadata": {},
   "outputs": [
    {
     "name": "stderr",
     "output_type": "stream",
     "text": [
      "Corrupt JPEG data: premature end of data segment\n"
     ]
    }
   ],
   "source": [
    "shape = []\n",
    "for img_files in TS_files:\n",
    "    img = cv2.imread(img_files.as_posix(), cv2.IMREAD_COLOR)\n",
    "    if img.shape not in shape:\n",
    "        shape.append(img.shape)"
   ]
  },
  {
   "cell_type": "code",
   "execution_count": 21,
   "id": "41daba3d-ff95-4e28-841f-113f54bea655",
   "metadata": {},
   "outputs": [
    {
     "data": {
      "text/plain": [
       "[(2992, 2992, 3),\n",
       " (3024, 3024, 3),\n",
       " (3000, 3000, 3),\n",
       " (3456, 3456, 3),\n",
       " (2996, 2996, 3),\n",
       " (2955, 2955, 3),\n",
       " (3021, 3021, 3),\n",
       " (3120, 3120, 3),\n",
       " (1440, 2560, 3),\n",
       " (3472, 3472, 3),\n",
       " (2960, 2960, 3),\n",
       " (2970, 2970, 3),\n",
       " (2904, 2950, 3),\n",
       " (2933, 2946, 3),\n",
       " (2989, 2989, 3),\n",
       " (2905, 2988, 3),\n",
       " (2923, 2980, 3),\n",
       " (2905, 2978, 3),\n",
       " (2931, 2984, 3),\n",
       " (2950, 2992, 3),\n",
       " (2961, 2986, 3),\n",
       " (2949, 2949, 3),\n",
       " (2945, 2945, 3),\n",
       " (2982, 2982, 3),\n",
       " (3001, 3001, 3),\n",
       " (3004, 3004, 3),\n",
       " (2956, 2956, 3),\n",
       " (2869, 2947, 3),\n",
       " (2981, 2981, 3),\n",
       " (3648, 3648, 3)]"
      ]
     },
     "execution_count": 21,
     "metadata": {},
     "output_type": "execute_result"
    }
   ],
   "source": [
    "shape"
   ]
  }
 ],
 "metadata": {
  "kernelspec": {
   "display_name": "Python 3 (ipykernel)",
   "language": "python",
   "name": "python3"
  },
  "language_info": {
   "codemirror_mode": {
    "name": "ipython",
    "version": 3
   },
   "file_extension": ".py",
   "mimetype": "text/x-python",
   "name": "python",
   "nbconvert_exporter": "python",
   "pygments_lexer": "ipython3",
   "version": "3.11.6"
  }
 },
 "nbformat": 4,
 "nbformat_minor": 5
}
