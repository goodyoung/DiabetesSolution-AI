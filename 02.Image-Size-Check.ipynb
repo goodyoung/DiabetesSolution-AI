{
 "cells": [
  {
   "cell_type": "code",
   "execution_count": 1,
   "id": "9ab75dc5-059e-465c-852c-bca2a2a0052d",
   "metadata": {},
   "outputs": [],
   "source": [
    "from pathlib import Path\n",
    "import cv2"
   ]
  },
  {
   "cell_type": "markdown",
   "id": "502f1573-e5f5-4b3e-9194-4c3399872645",
   "metadata": {},
   "source": [
    "### Load Image path"
   ]
  },
  {
   "cell_type": "code",
   "execution_count": 2,
   "id": "e01f19ab-ea40-458e-9804-3e831381d433",
   "metadata": {},
   "outputs": [],
   "source": [
    "# HOME = Path.home()\n",
    "HOME = Path(\"/mnt/d/Jupyter-Goodyoung\")\n",
    "dataset = HOME / \"diabetes/data/\"\n",
    "TRAIN = dataset / \"Train\"\n",
    "VALID = dataset / \"Valid\""
   ]
  },
  {
   "cell_type": "code",
   "execution_count": 3,
   "id": "fe5af15d-e59e-462f-8d24-24bf47b47763",
   "metadata": {},
   "outputs": [
    {
     "ename": "FileNotFoundError",
     "evalue": "[Errno 2] No such file or directory: '/mnt/d/Jupyter-Goodyoung/diabetes/data/Valid/TL'",
     "output_type": "error",
     "traceback": [
      "\u001b[0;31m---------------------------------------------------------------------------\u001b[0m",
      "\u001b[0;31mFileNotFoundError\u001b[0m                         Traceback (most recent call last)",
      "Cell \u001b[0;32mIn[3], line 5\u001b[0m\n\u001b[1;32m      2\u001b[0m TS \u001b[38;5;241m=\u001b[39m VALID \u001b[38;5;241m/\u001b[39m \u001b[38;5;124m\"\u001b[39m\u001b[38;5;124mTS\u001b[39m\u001b[38;5;124m\"\u001b[39m\n\u001b[1;32m      4\u001b[0m \u001b[38;5;66;03m# TL, TS 디렉토리의 하위 디렉토리 목록 가져오기\u001b[39;00m\n\u001b[0;32m----> 5\u001b[0m TL_directories \u001b[38;5;241m=\u001b[39m \u001b[38;5;28;43mlist\u001b[39;49m\u001b[43m(\u001b[49m\u001b[38;5;28;43mfilter\u001b[39;49m\u001b[43m(\u001b[49m\u001b[43mPath\u001b[49m\u001b[38;5;241;43m.\u001b[39;49m\u001b[43mis_dir\u001b[49m\u001b[43m,\u001b[49m\u001b[43m \u001b[49m\u001b[43mTL\u001b[49m\u001b[38;5;241;43m.\u001b[39;49m\u001b[43miterdir\u001b[49m\u001b[43m(\u001b[49m\u001b[43m)\u001b[49m\u001b[43m)\u001b[49m\u001b[43m)\u001b[49m\n\u001b[1;32m      6\u001b[0m TS_directories \u001b[38;5;241m=\u001b[39m \u001b[38;5;28mlist\u001b[39m(\u001b[38;5;28mfilter\u001b[39m(Path\u001b[38;5;241m.\u001b[39mis_dir, TS\u001b[38;5;241m.\u001b[39miterdir()))\n\u001b[1;32m      8\u001b[0m \u001b[38;5;66;03m# 대분류 디렉토리 목록 불러오기\u001b[39;00m\n",
      "File \u001b[0;32m~/.pyenv/versions/3.11.6/lib/python3.11/pathlib.py:931\u001b[0m, in \u001b[0;36mPath.iterdir\u001b[0;34m(self)\u001b[0m\n\u001b[1;32m    927\u001b[0m \u001b[38;5;28;01mdef\u001b[39;00m \u001b[38;5;21miterdir\u001b[39m(\u001b[38;5;28mself\u001b[39m):\n\u001b[1;32m    928\u001b[0m \u001b[38;5;250m    \u001b[39m\u001b[38;5;124;03m\"\"\"Iterate over the files in this directory.  Does not yield any\u001b[39;00m\n\u001b[1;32m    929\u001b[0m \u001b[38;5;124;03m    result for the special paths '.' and '..'.\u001b[39;00m\n\u001b[1;32m    930\u001b[0m \u001b[38;5;124;03m    \"\"\"\u001b[39;00m\n\u001b[0;32m--> 931\u001b[0m     \u001b[38;5;28;01mfor\u001b[39;00m name \u001b[38;5;129;01min\u001b[39;00m \u001b[43mos\u001b[49m\u001b[38;5;241;43m.\u001b[39;49m\u001b[43mlistdir\u001b[49m\u001b[43m(\u001b[49m\u001b[38;5;28;43mself\u001b[39;49m\u001b[43m)\u001b[49m:\n\u001b[1;32m    932\u001b[0m         \u001b[38;5;28;01myield\u001b[39;00m \u001b[38;5;28mself\u001b[39m\u001b[38;5;241m.\u001b[39m_make_child_relpath(name)\n",
      "\u001b[0;31mFileNotFoundError\u001b[0m: [Errno 2] No such file or directory: '/mnt/d/Jupyter-Goodyoung/diabetes/data/Valid/TL'"
     ]
    }
   ],
   "source": [
    "TL = TRAIN / \"TL\" # Train Label\n",
    "TS = TRAIN / \"TS\"\n",
    "\n",
    "# TL, TS 디렉토리의 하위 디렉토리 목록 가져오기\n",
    "TL_directories = list(filter(Path.is_dir, TL.iterdir()))\n",
    "TS_directories = list(filter(Path.is_dir, TS.iterdir()))\n",
    "\n",
    "# 대분류 디렉토리 목록 불러오기\n",
    "def get_all_main_dir(directory_list):\n",
    "    return [subdir for directory in directory_list for subdir in directory.iterdir() if subdir.is_dir()]\n",
    "\n",
    "TL_subdirectories = get_all_main_dir(TL_directories)\n",
    "TS_subdirectories = get_all_main_dir(TS_directories)\n",
    "\n",
    "#  대분류 밑 파일 가져오기\n",
    "def get_all_files(directory_list, extension):\n",
    "    return [file.as_posix() for directory in directory_list for file in directory.rglob(\"*.\" + extension) if file.is_file()] # rglob -> 하위 디렉토리에서 다 찾음\n",
    "\n",
    "TL_files = get_all_files(TL_subdirectories, \"json\")\n",
    "TS_files = get_all_files(TS_subdirectories, \"jpg\")\n",
    "\n",
    "# 파일 개수 비교하여 맞추기\n",
    "if len(TL_files) != len(TS_files):\n",
    "    print(\"Differ\")\n",
    "    TL_files = TL_files[:len(TS_files)]\n",
    "\n",
    "len(TL_files) == len(TS_files)"
   ]
  },
  {
   "cell_type": "markdown",
   "id": "5cff7449-cc48-4a60-a34d-012e6b372338",
   "metadata": {},
   "source": [
    "### store path"
   ]
  },
  {
   "cell_type": "code",
   "execution_count": 6,
   "id": "68507e12-c2d3-4c2e-abb8-bd0ac16e487e",
   "metadata": {},
   "outputs": [],
   "source": [
    "# 리스트 생성\n",
    "# 파일에 리스트의 각 요소를 쓰기\n",
    "with open('TL_files.txt', 'w') as f:\n",
    "    for string in TL_files:\n",
    "        f.write(string + '\\n')\n",
    "with open('TS_files.txt', 'w') as f:\n",
    "    for string in TS_files:\n",
    "        f.write(string + '\\n')"
   ]
  },
  {
   "cell_type": "code",
   "execution_count": 7,
   "id": "cffd90d1-8ebd-4262-9847-fc3d6fb7c479",
   "metadata": {},
   "outputs": [],
   "source": [
    "# 파일에서 문자열을 읽어와 리스트에 저장하는 함수\n",
    "def read_strings_from_file(filename):\n",
    "    strings = []\n",
    "    with open(filename, 'r') as f:\n",
    "        for line in f:\n",
    "            strings.append(line.strip())  # 줄바꿈 문자 제거\n",
    "    return strings\n",
    "my_list = read_strings_from_file('strings.txt')"
   ]
  },
  {
   "cell_type": "markdown",
   "id": "9e3d68cc-bd2c-43f5-a7e3-fab7aa25cb8d",
   "metadata": {},
   "source": [
    "### Check image size"
   ]
  },
  {
   "cell_type": "code",
   "execution_count": 20,
   "id": "bc08dec1-e9f7-4e9b-b761-1c53740503af",
   "metadata": {},
   "outputs": [
    {
     "name": "stderr",
     "output_type": "stream",
     "text": [
      "Corrupt JPEG data: premature end of data segment\n"
     ]
    }
   ],
   "source": [
    "shape = []\n",
    "for img_files in TS_files:\n",
    "    img = cv2.imread(img_files.as_posix(), cv2.IMREAD_COLOR)\n",
    "    if img.shape not in shape:\n",
    "        shape.append(img.shape)"
   ]
  },
  {
   "cell_type": "code",
   "execution_count": 21,
   "id": "41daba3d-ff95-4e28-841f-113f54bea655",
   "metadata": {
    "scrolled": true
   },
   "outputs": [
    {
     "data": {
      "text/plain": [
       "[(2992, 2992, 3),\n",
       " (3024, 3024, 3),\n",
       " (3000, 3000, 3),\n",
       " (3456, 3456, 3),\n",
       " (2996, 2996, 3),\n",
       " (2955, 2955, 3),\n",
       " (3021, 3021, 3),\n",
       " (3120, 3120, 3),\n",
       " (1440, 2560, 3),\n",
       " (3472, 3472, 3),\n",
       " (2960, 2960, 3),\n",
       " (2970, 2970, 3),\n",
       " (2904, 2950, 3),\n",
       " (2933, 2946, 3),\n",
       " (2989, 2989, 3),\n",
       " (2905, 2988, 3),\n",
       " (2923, 2980, 3),\n",
       " (2905, 2978, 3),\n",
       " (2931, 2984, 3),\n",
       " (2950, 2992, 3),\n",
       " (2961, 2986, 3),\n",
       " (2949, 2949, 3),\n",
       " (2945, 2945, 3),\n",
       " (2982, 2982, 3),\n",
       " (3001, 3001, 3),\n",
       " (3004, 3004, 3),\n",
       " (2956, 2956, 3),\n",
       " (2869, 2947, 3),\n",
       " (2981, 2981, 3),\n",
       " (3648, 3648, 3)]"
      ]
     },
     "execution_count": 21,
     "metadata": {},
     "output_type": "execute_result"
    }
   ],
   "source": [
    "shape"
   ]
  },
  {
   "cell_type": "markdown",
   "id": "d26c61f9-866a-4d22-9dff-8cd3e8444abf",
   "metadata": {},
   "source": [
    "## store Valid file "
   ]
  },
  {
   "cell_type": "code",
   "execution_count": 4,
   "id": "8a99a78c-c783-49c1-b6c3-53ca2a557625",
   "metadata": {},
   "outputs": [
    {
     "data": {
      "text/plain": [
       "True"
      ]
     },
     "execution_count": 4,
     "metadata": {},
     "output_type": "execute_result"
    }
   ],
   "source": [
    "VL = VALID / \"VL\" # Valid Label\n",
    "VS = VALID / \"VS\"\n",
    "\n",
    "# VL, VS 디렉토리의 하위 디렉토리 목록 가져오기\n",
    "VL_directories = list(filter(Path.is_dir, VL.iterdir()))\n",
    "VS_directories = list(filter(Path.is_dir, VS.iterdir()))\n",
    "\n",
    "\n",
    "def get_all_main_dir(directory_list):\n",
    "    return [subdir for directory in directory_list for subdir in directory.iterdir() if subdir.is_dir()]\n",
    "\n",
    "VL_subdirectories = get_all_main_dir(VL_directories)\n",
    "VS_subdirectories = get_all_main_dir(VS_directories)\n",
    "\n",
    "\n",
    "def get_all_files(directory_list, extension):\n",
    "    return [file.as_posix() for directory in directory_list for file in directory.rglob(\"*.\" + extension) if file.is_file()]\n",
    "\n",
    "VL_files = get_all_files(VL_subdirectories, \"json\")\n",
    "VS_files = get_all_files(VS_subdirectories, \"jpg\")\n",
    "\n",
    "# 파일 개수 비교하여 맞추기\n",
    "if len(VL_files) != len(VS_files):\n",
    "    print(\"Differ\")\n",
    "    VL_files = VL_files[:len(VS_files)]\n",
    "\n",
    "# 파일 개수 일치 여부 확인\n",
    "len(VL_files) == len(VS_files)"
   ]
  },
  {
   "cell_type": "code",
   "execution_count": 5,
   "id": "8d3a47a0-42cd-4e8e-9dc4-26ba014ad7bf",
   "metadata": {},
   "outputs": [],
   "source": [
    "# 리스트 생성\n",
    "# 파일에 리스트의 각 요소를 쓰기\n",
    "with open('VL_files.txt', 'w') as f:\n",
    "    for string in VL_files:\n",
    "        f.write(string + '\\n')\n",
    "with open('VS_files.txt', 'w') as f:\n",
    "    for string in VS_files:\n",
    "        f.write(string + '\\n')"
   ]
  },
  {
   "cell_type": "code",
   "execution_count": null,
   "id": "d46de884-c431-4e28-ba44-20384daca458",
   "metadata": {},
   "outputs": [],
   "source": []
  }
 ],
 "metadata": {
  "kernelspec": {
   "display_name": "Python 3 (ipykernel)",
   "language": "python",
   "name": "python3"
  },
  "language_info": {
   "codemirror_mode": {
    "name": "ipython",
    "version": 3
   },
   "file_extension": ".py",
   "mimetype": "text/x-python",
   "name": "python",
   "nbconvert_exporter": "python",
   "pygments_lexer": "ipython3",
   "version": "3.11.6"
  }
 },
 "nbformat": 4,
 "nbformat_minor": 5
}
