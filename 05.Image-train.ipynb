{
 "cells": [
  {
   "cell_type": "code",
   "execution_count": 1,
   "id": "85daeb69-bd4e-4511-b4dc-7d3663beb7ba",
   "metadata": {
    "executionInfo": {
     "elapsed": 8176,
     "status": "ok",
     "timestamp": 1710024775364,
     "user": {
      "displayName": "고건영",
      "userId": "13176787411488158617"
     },
     "user_tz": -540
    },
    "id": "b857OigSz5Az"
   },
   "outputs": [],
   "source": [
    "import torch\n",
    "from torch.utils.data import DataLoader, Dataset\n",
    "from torchvision import transforms\n",
    "import torchvision.models as models\n",
    "from torch import optim\n",
    "import torch.nn as nn\n",
    "import torch.nn.functional as F\n",
    "import json\n",
    "import numpy as np\n",
    "import os\n",
    "import cv2\n",
    "from tqdm import tqdm\n",
    "import random\n",
    "from matplotlib import pyplot as plt\n",
    "import pandas as pd\n",
    "from collections import namedtuple\n",
    "from sklearn.metrics import accuracy_score\n",
    "from copy import deepcopy\n",
    "\n",
    "import albumentations as A\n",
    "from albumentations.pytorch import ToTensorV2\n",
    "from sklearn.model_selection import train_test_split"
   ]
  },
  {
   "cell_type": "code",
   "execution_count": 8,
   "id": "6de52576-e8bf-4149-95af-b4e9f9dd7969",
   "metadata": {},
   "outputs": [],
   "source": [
    "from PIL import Image, ImageFile\n",
    "ImageFile.LOAD_TRUNCATED_IMAGES = True"
   ]
  },
  {
   "cell_type": "markdown",
   "id": "a303b1b6-ad7a-42ae-814e-6abd01a69dc2",
   "metadata": {},
   "source": [
    "### SEED"
   ]
  },
  {
   "cell_type": "code",
   "execution_count": 9,
   "id": "05ac6768-4c0a-4e59-9964-66da76b21180",
   "metadata": {
    "executionInfo": {
     "elapsed": 5,
     "status": "ok",
     "timestamp": 1710024775364,
     "user": {
      "displayName": "고건영",
      "userId": "13176787411488158617"
     },
     "user_tz": -540
    },
    "id": "goZno44sz7i2"
   },
   "outputs": [],
   "source": [
    "def seed_everything(seed):\n",
    "    random.seed(seed)\n",
    "    os.environ['PYTHONHASHSEED'] = str(seed)\n",
    "    np.random.seed(seed)\n",
    "    torch.manual_seed(seed)\n",
    "    torch.cuda.manual_seed(seed)\n",
    "    torch.backends.cudnn.deterministic = True\n",
    "    torch.backends.cudnn.benchmark = True"
   ]
  },
  {
   "cell_type": "markdown",
   "id": "428ec63b-90e4-4c81-ad86-f88199463cd5",
   "metadata": {
    "id": "nWvyaaxHChPf"
   },
   "source": [
    "# Dataset"
   ]
  },
  {
   "cell_type": "code",
   "execution_count": 14,
   "id": "6f1eefa7-01e5-4715-bc56-8a88345f17af",
   "metadata": {},
   "outputs": [],
   "source": [
    "s = '/mnt/d/Jupyter-Goodyoung/diabetes/data/Train/TS/TS10/C/06/C06011/07/측면/C_06_C06011_양념닭가슴살_07_03.jpg'\n",
    "# s = '/mnt/d/Jupyter-Goodyoung/diabetes/data/Train/TS/TS1/B/12/B12113/10/측면/B_12_B12113_야채곱창볶음_10_02.jpg'\n",
    "# s = '/mnt/d/Jupyter-Goodyoung/diabetes/data/Train/TS/TS1/B/11/B11118/06/측면/B_11_B11118_클럽샌드위치_06_02.jpg'\n",
    "# idx = combined_imgs.index(s)"
   ]
  },
  {
   "cell_type": "code",
   "execution_count": null,
   "id": "1a0802a6-13b1-4296-8882-adeffd3ea834",
   "metadata": {},
   "outputs": [],
   "source": [
    " /mnt/d/Jupyter-Goodyoung/diabetes/data/Train/TS/TS1/B/12/B12113/10/측면/B_12_B12113_야채곱창볶음_10_01.jpg"
   ]
  },
  {
   "cell_type": "code",
   "execution_count": 22,
   "id": "881af7a3-a187-4dff-99cc-5423f359959b",
   "metadata": {},
   "outputs": [],
   "source": [
    "import cv2\n",
    "from torch.utils.data import Dataset\n",
    "from PIL import Image\n",
    "s = '/mnt/d/Jupyter-Goodyoung/diabetes/data/Train/TS/TS10/C/06/C06011/07/측면/C_06_C06011_양념닭가슴살_07_03.jpg'\n",
    "idx = combined_imgs.index(s)\n",
    "\n",
    "class CustomDataset(Dataset):\n",
    "    def __init__(self, imgs_path: list, labels_path: list=None, transform = None, mode='train'):\n",
    "        self.imgs_path = imgs_path\n",
    "        self.labels_path = labels_path\n",
    "        self.transform = transform\n",
    "        self.mode = mode\n",
    "\n",
    "    def __len__(self):\n",
    "        return len(self.imgs_path)\n",
    "        \n",
    "    def __getitem__(self, idx):\n",
    "        img_path = self.imgs_path[idx]\n",
    "        # img = cv2.imread(img_path)\n",
    "        # img = Image.open(img_path)  # OpenCV 대신 Pillow 사용\n",
    "        try:\n",
    "            img = np.asarray(Image.open(img_path))  # OpenCV 대신 Pillow 사용\n",
    "            if self.transform:\n",
    "                img = self.transform(image = img)['image']\n",
    "        except Exception as e:\n",
    "            print(f\"Error loading image at index {idx}: {e}, {img_path}\")\n",
    "            img = np.asarray(Image.open(s))\n",
    "            \n",
    "            if self.transform:\n",
    "                img = self.transform(image = img)['image']\n",
    "            label_path = combined_label[idx]\n",
    "            with open(label_path, 'r') as file:\n",
    "                lines = file.readlines()\n",
    "            \n",
    "            labels = [float(x) for x in lines[0].strip().split()]\n",
    "            lab = labels[0]\n",
    "            return img, torch.tensor(lab)\n",
    "            \n",
    "        if img is None:\n",
    "            print(\"ERROR:\",img_path,idx)\n",
    "            return\n",
    "            # raise FileNotFoundError(f\"Failed to read image at index {idx}, path: {img_path}\")\n",
    "        \n",
    "        # if self.transform:\n",
    "        #     img = self.transform(image = img)['image']\n",
    "\n",
    "        if self.mode == 'train' or self.mode == 'valid':\n",
    "            label_path = self.labels_path[idx]\n",
    "            with open(label_path, 'r') as file:\n",
    "                lines = file.readlines()\n",
    "            \n",
    "            labels = [float(x) for x in lines[0].strip().split()]\n",
    "            lab = labels[0]\n",
    "            return img, torch.tensor(lab)\n",
    "            \n",
    "        else: # test일 때\n",
    "            return img"
   ]
  },
  {
   "cell_type": "markdown",
   "id": "6b44e09b-4426-478b-8d92-c1fccf547ca8",
   "metadata": {
    "id": "SHJNmYHlCUEy"
   },
   "source": [
    "# Train"
   ]
  },
  {
   "cell_type": "markdown",
   "id": "4dc138a5-4c34-4360-96cf-939e6ac0b882",
   "metadata": {
    "id": "EEGMBg0_QrIY"
   },
   "source": [
    "### Data load"
   ]
  },
  {
   "cell_type": "code",
   "execution_count": 23,
   "id": "2bd11d4e-d548-4de2-9997-f1016b6d58ba",
   "metadata": {
    "executionInfo": {
     "elapsed": 5,
     "status": "ok",
     "timestamp": 1710026175088,
     "user": {
      "displayName": "고건영",
      "userId": "13176787411488158617"
     },
     "user_tz": -540
    },
    "id": "95awiQ48Cbqh"
   },
   "outputs": [],
   "source": [
    "BASE = '/mnt/d/Jupyter-Goodyoung/DiabetesSolution-AI'\n",
    "SAVE_PATH = f\"{BASE}/save\"\n",
    "MODEL_SAVE = f'{SAVE_PATH}/EfficientNetB0.pth' #\n",
    "WORKERS = 1\n",
    "EPOCHS = 50 # 훈련 epoch 지정\n",
    "BATCH_SIZE = 8# batch size 지정\n",
    "# IMAGE_SIZE = (256, 256) # 이미지 크기 지정\n",
    "NUM_CLASSES = 722\n",
    "RANDOM_STATE = 42 # seed 고정\n",
    "DEVICE = torch.device(\"cuda\") if torch.cuda.is_available() else torch.device(\"cpu\")\n",
    "\n",
    "if not os.path.exists(SAVE_PATH):\n",
    "    os.makedirs(SAVE_PATH)\n",
    "\n",
    "seed_everything(RANDOM_STATE) # SEED 고정"
   ]
  },
  {
   "cell_type": "code",
   "execution_count": 24,
   "id": "fc5ea298-59f7-4f08-a1c5-f9f75901e689",
   "metadata": {
    "executionInfo": {
     "elapsed": 4,
     "status": "ok",
     "timestamp": 1710026175088,
     "user": {
      "displayName": "고건영",
      "userId": "13176787411488158617"
     },
     "user_tz": -540
    },
    "id": "jXoZmn6iMdVj"
   },
   "outputs": [],
   "source": [
    "# 파일에서 문자열을 읽어와 리스트에 저장하는 함수\n",
    "def read_strings_from_file(filename):\n",
    "    strings = []\n",
    "    with open(filename, 'r') as f:\n",
    "        if filename == \"TL_files.txt\" or filename == \"VL_files.txt\" :\n",
    "            for line in f:\n",
    "                line = line.strip()\n",
    "                line = line[:-4] +\"txt\"\n",
    "                # line = line[:-4] +\"json\"\n",
    "                strings.append(line)  # 줄바꿈 문자 제거            \n",
    "        else:    \n",
    "            for line in f:\n",
    "                strings.append(line.strip())  # 줄바꿈 문자 제거\n",
    "    return strings\n",
    "TL_files = read_strings_from_file('TL_files.txt')\n",
    "TS_files = read_strings_from_file('TS_files.txt')\n",
    "VL_files = read_strings_from_file('VL_files.txt')\n",
    "VS_files = read_strings_from_file('VS_files.txt')\n",
    "\n",
    "# train : val = 8 : 2 나누기\n",
    "combined_imgs = TS_files + VS_files\n",
    "combined_label = TL_files + VL_files\n",
    "remove_files= [\n",
    "'/mnt/d/Jupyter-Goodyoung/diabetes/data/Valid/VS/VS2/B/11/B11128/28/측면/B_11_B11128_햄에그샌드위치_28_08.jpg',\n",
    "'/mnt/d/Jupyter-Goodyoung/diabetes/data/Valid/VS/VS1/C/02/C02082/14/측면/C_02_C02082_야채고로케_14_04.jpg',\n",
    "'/mnt/d/Jupyter-Goodyoung/diabetes/data/Train/TS/TS1/B/11/B11085/08/측면/B_11_B11085_에그샌드위치_08_01.jpg',\n",
    "'/mnt/d/Jupyter-Goodyoung/diabetes/data/Valid/VS/VS1/C/02/C02009/15/측면/C_02_C02009_고구마케이크_15_04.jpg',\n",
    "'/mnt/d/Jupyter-Goodyoung/diabetes/data/Valid/VS/VS2/A/14/A14126/01/정위/A_14_A14126_카츠나베_01_09.jpg',\n",
    "'/mnt/d/Jupyter-Goodyoung/diabetes/data/Valid/VS/VS2/A/14/A14126/01/정위/A_14_A14126_카츠나베_01_10.jpg',\n",
    "'/mnt/d/Jupyter-Goodyoung/diabetes/data/Train/TS/TS1/C/03/C03152/10/측면/C_03_C03152_낙지죽_10_05.jpg',    \n",
    " '/mnt/d/Jupyter-Goodyoung/diabetes/data/Valid/VS/VS1/C/02/C02009/15/측면/C_02_C02009_고구마케이크_15_03.jpg',\n",
    "'/mnt/d/Jupyter-Goodyoung/diabetes/data/Valid/VS/VS2/B/11/B11059/10/측면/B_11_B11059_새우토스트_10_04.jpg',\n",
    " '/mnt/d/Jupyter-Goodyoung/diabetes/data/Valid/VS/VS2/C/01/C01010/04/단면/C_01_C01010_소떡소떡_04_07.jpg',\n",
    "'/mnt/d/Jupyter-Goodyoung/diabetes/data/Train/TS/TS1/B/11/B11118/06/측면/B_11_B11118_클럽샌드위치_06_02.jpg',\n",
    "# '/mnt/d/Jupyter-Goodyoung/diabetes/data/Train/TS/TS10/C/06/C06011/07/측면/C_06_C06011_양념닭가슴살_07_03.jpg',\n",
    "'/mnt/d/Jupyter-Goodyoung/diabetes/data/Train/TS/TS1/C/02/C02120/12/측면/C_02_C02120_치즈크로플_12_06.jpg'\n",
    "]\n",
    "\n",
    "# 삭제할 이미지의 인덱스 가져오기\n",
    "indices_to_remove = [combined_imgs.index(img) for img in remove_files]\n",
    "\n",
    "# 내림차순으로 정렬\n",
    "indices_to_remove.sort(reverse=True)\n",
    "\n",
    "# 가져온 인덱스로 해당 이미지와 레이블 제거\n",
    "for idx in indices_to_remove:\n",
    "    combined_imgs.pop(idx)\n",
    "    combined_label.pop(idx)\n",
    "\n",
    "\n",
    "divide_num =20000\n",
    "if divide_num:\n",
    "    real_imgs, real_label = combined_imgs[:divide_num], combined_label[:divide_num]\n",
    "else:\n",
    "    real_imgs, real_label = combined_imgs, combined_label\n",
    "    \n",
    "x_tr, x_val = train_test_split(real_imgs, test_size=0.2, random_state=RANDOM_STATE)\n",
    "y_tr, y_val = train_test_split(real_label, test_size=0.2, random_state=RANDOM_STATE) # 둘 다 같은 비율로 나뉘어 진다\n",
    "\n",
    "transform = A.Compose([\n",
    "        A.Resize(480,480),\n",
    "        # A.Normalize(mean=(0.485, 0.456, 0.406), std=(0.229, 0.224, 0.225), max_pixel_value=255.0, always_apply=False, p=1.0),\n",
    "        A.Normalize(0.5),\n",
    "        ToTensorV2()\n",
    "])\n",
    "train_dataset = CustomDataset(x_tr, y_tr, transform = transform, mode = 'train')\n",
    "valid_dataset = CustomDataset(x_val, y_val, transform = transform, mode = 'valid')\n",
    "\n",
    "train_dataloader = DataLoader(\n",
    "    dataset=train_dataset,\n",
    "    batch_size=BATCH_SIZE,\n",
    "    shuffle=True,\n",
    "    num_workers=WORKERS,\n",
    "    pin_memory=False\n",
    ")\n",
    "val_dataloader = DataLoader(\n",
    "    dataset=valid_dataset,\n",
    "    batch_size=BATCH_SIZE,\n",
    "    shuffle=False,\n",
    "    num_workers=WORKERS,\n",
    "    pin_memory=False\n",
    "        )"
   ]
  },
  {
   "cell_type": "markdown",
   "id": "55d652b9-9c7d-4660-bfbe-2f44e06d8af2",
   "metadata": {
    "id": "71BAohVtPmnP"
   },
   "source": [
    "### Model train"
   ]
  },
  {
   "cell_type": "markdown",
   "id": "ba0c9313-9a23-4d63-a918-f50fe7dbfbc4",
   "metadata": {
    "id": "KSJbSsDQy-vh"
   },
   "source": [
    "#### model selection"
   ]
  },
  {
   "cell_type": "code",
   "execution_count": 25,
   "id": "7ce8d1cd-771a-489d-8260-d8a8d9aa8c29",
   "metadata": {
    "executionInfo": {
     "elapsed": 4,
     "status": "ok",
     "timestamp": 1710026176892,
     "user": {
      "displayName": "고건영",
      "userId": "13176787411488158617"
     },
     "user_tz": -540
    },
    "id": "t4sThsQmNgFF"
   },
   "outputs": [],
   "source": [
    "# torch init cache\n",
    "import torch, gc\n",
    "gc.collect()\n",
    "torch.cuda.empty_cache()"
   ]
  },
  {
   "cell_type": "code",
   "execution_count": 26,
   "id": "f9d0b501-aeb6-4523-ace7-4a75d7c8dc65",
   "metadata": {},
   "outputs": [],
   "source": [
    "import timm\n",
    "model = timm.create_model('efficientnet_b0', pretrained=True)\n",
    "model.classifier = nn.Linear(1280,NUM_CLASSES)"
   ]
  },
  {
   "cell_type": "code",
   "execution_count": 27,
   "id": "5bd105dd-eb5a-41d4-b305-d7297fa15055",
   "metadata": {},
   "outputs": [],
   "source": [
    "optimizer = optim.AdamW(model.parameters(), lr=0.001)#(params=model.parameters(), lr=0.0001)\n",
    "loss_fn = nn.CrossEntropyLoss().to(DEVICE)\n",
    "lr_scheduler = optim.lr_scheduler.CosineAnnealingLR(optimizer, T_max=5, eta_min=0.000001)"
   ]
  },
  {
   "cell_type": "code",
   "execution_count": null,
   "id": "df8d70c9-ac26-4785-95a3-30294806bb44",
   "metadata": {
    "colab": {
     "base_uri": "https://localhost:8080/",
     "height": 495,
     "referenced_widgets": [
      "6bbb135fe51a416f832dc1f03639d1fb",
      "c91e9d469c044b61991b9f28c8f9d09e",
      "28088d2ffba24dc69e732a41aba9bc6b",
      "ed0c353831a64965a0f6fd28ede9e171",
      "c2d949edfd134daa9f0ecbabc23162a0",
      "399523c948d34ef6a68ea9113020c06c",
      "bffd9d14da8c4ecaab5e14e91189d9db",
      "c6c8ecda021c4b168d3063c750e1ad05",
      "20c3c2f34b474d968ee3ff8cdde41f59",
      "913249dc19844b9392a7d5b022e80d6a",
      "523a202649ec4042bc855d2ad8d5636c"
     ]
    },
    "executionInfo": {
     "elapsed": 46050,
     "status": "error",
     "timestamp": 1710026223376,
     "user": {
      "displayName": "고건영",
      "userId": "13176787411488158617"
     },
     "user_tz": -540
    },
    "id": "EsBjrh_mRjdt",
    "outputId": "72684dc2-e149-4383-b87d-7cca047deb66",
    "scrolled": true
   },
   "outputs": [
    {
     "name": "stdout",
     "output_type": "stream",
     "text": [
      "Epoch 0/50\n",
      "--------------------\n"
     ]
    },
    {
     "name": "stderr",
     "output_type": "stream",
     "text": [
      "  7%|█████▎                                                                          | 134/2000 [02:01<26:48,  1.16it/s]"
     ]
    },
    {
     "name": "stdout",
     "output_type": "stream",
     "text": [
      "Error loading image at index 4992: operands could not be broadcast together with shapes (480,480,4) (3,) (480,480,4) , /mnt/d/Jupyter-Goodyoung/diabetes/data/Train/TS/TS1/B/12/B12113/10/측면/B_12_B12113_야채곱창볶음_10_01.jpg\n"
     ]
    },
    {
     "name": "stderr",
     "output_type": "stream",
     "text": [
      " 17%|█████████████▎                                                                  | 334/2000 [06:20<36:36,  1.32s/it]"
     ]
    }
   ],
   "source": [
    "best_val_loss = 1e9\n",
    "best_model = None\n",
    "early_stop = 0\n",
    "\n",
    "model.to(DEVICE)\n",
    "model.load_state_dict(torch.load(MODEL_SAVE))\n",
    "\n",
    "for epoch in range(EPOCHS+1):\n",
    "    model.train()\n",
    "    print('Epoch {}/{}'.format(epoch, EPOCHS))\n",
    "    print('-'*20)\n",
    "    train_loss = 0\n",
    "\n",
    "    #### train ####\n",
    "    for imgs, label in tqdm(train_dataloader):\n",
    "        imgs = imgs.to(DEVICE)\n",
    "        label = label.to(DEVICE)\n",
    "        # 초기화\n",
    "        optimizer.zero_grad() \n",
    "        # 예측\n",
    "        output = model(imgs) \n",
    "        # 순전파\n",
    "        one_hot_label = torch.zeros(label.size(0), NUM_CLASSES, device=label.device)\n",
    "        one_hot_label.scatter_(1, label.long().unsqueeze(1), 1)\n",
    "        loss = loss_fn(output, one_hot_label).to(DEVICE) \n",
    "        \n",
    "        # 역전파\n",
    "        loss.backward() \n",
    "        # 학습\n",
    "        optimizer.step() \n",
    "        \n",
    "        train_loss += loss.item()\n",
    "        \n",
    "    #### valid ####\n",
    "    model.eval()\n",
    "    val_loss = 0\n",
    "    with torch.no_grad():\n",
    "        for imgs, label in tqdm(val_dataloader):\n",
    "            imgs = imgs.to(DEVICE)\n",
    "            label = label.to(DEVICE)\n",
    "            # 예측\n",
    "\n",
    "            output = model(imgs)\n",
    "            # 순전파\n",
    "            one_hot_label = torch.zeros(label.size(0), NUM_CLASSES, device=label.device)\n",
    "            one_hot_label.scatter_(1, label.long().unsqueeze(1), 1)\n",
    "            loss = loss_fn(output, one_hot_label).to(DEVICE)\n",
    "            \n",
    "            val_loss+=loss.item()\n",
    "            \n",
    "    \n",
    "    print(f\"EPOCH: {epoch}, TRAIN LOSS: {train_loss:.6f},  VAL LOSS: {val_loss:.6f}\")\n",
    "    \n",
    "    if lr_scheduler is not None:\n",
    "        lr_scheduler.step()\n",
    "        \n",
    "    if best_val_loss > val_loss:\n",
    "        print(\"Model Save\")\n",
    "        \n",
    "        best_val_loss = val_loss\n",
    "        torch.save(model.state_dict(), MODEL_SAVE)\n",
    "        early_stop = 0\n",
    "        file_path = f'{SAVE_PATH}/result_all.txt'\n",
    "        with open(file_path, 'a') as file:\n",
    "            file.write(f\"[BEST]: EPOCH: {epoch}, TRAIN LOSS: {train_loss:.6f},  VAL LOSS: {val_loss:.6f}\\n\")\n",
    "    else:\n",
    "        early_stop += 1\n",
    "\n",
    "    # early stop\n",
    "    if early_stop > 4:\n",
    "        print(\"Early Stop\")\n",
    "        break"
   ]
  },
  {
   "cell_type": "markdown",
   "id": "0ee90105-8f97-4d14-8053-dc909645bc8a",
   "metadata": {
    "id": "nPAJgd2V0Fn0"
   },
   "source": [
    "# Inference"
   ]
  },
  {
   "cell_type": "code",
   "execution_count": null,
   "id": "a0fcf87a-2e11-4420-82b7-a751dbc2de3b",
   "metadata": {},
   "outputs": [],
   "source": [
    "Error loading image at index 4992: operands could not be broadcast together with shapes (480,480,4) (3,) (480,480,4) , /mnt/d/Jupyter-Goodyoung/diabetes/data/Train/TS/TS1/B/12/B12113/10/측면/B_12_B12113_야채곱창볶음_10_01.jpg"
   ]
  },
  {
   "cell_type": "code",
   "execution_count": null,
   "id": "779b39d1-4649-45cb-80cd-251179421c47",
   "metadata": {},
   "outputs": [
    {
     "name": "stderr",
     "output_type": "stream",
     "text": [
      "libpng error: IDAT: CRC error\n"
     ]
    }
   ],
   "source": [
    "import timm\n",
    "model = timm.create_model('efficientnet_b0', pretrained=True)\n",
    "model.classifier = nn.Linear(1280,NUM_CLASSES)"
   ]
  },
  {
   "cell_type": "code",
   "execution_count": 23,
   "id": "25c5a122-0388-40b5-b547-0105715c807c",
   "metadata": {},
   "outputs": [
    {
     "name": "stdout",
     "output_type": "stream",
     "text": [
      "/mnt/d/Jupyter-Goodyoung/diabetes/data/Valid/VS/VS1/B/11/B11004/17/측면/B_11_B11004_갈비치킨_17_07.jpg\n",
      "132\n",
      "닭윙간장치킨\n"
     ]
    }
   ],
   "source": [
    "# label data load\n",
    "import json\n",
    "with open(f\"{BASE}/label_mapping_data.json\") as f:\n",
    "    data = json.load(f)\n",
    "label_data = list(data.keys())\n",
    "# transform\n",
    "transform = A.Compose([\n",
    "        A.Resize(480,480),\n",
    "        A.Normalize(0.5,0.5),\n",
    "        ToTensorV2()\n",
    "])\n",
    "\n",
    "# load test path\n",
    "num= 30250\n",
    "test_dataset = CustomDataset([combined_imgs[num]], transform = transform, mode = 'test')\n",
    "test_dataloader = DataLoader(\n",
    "    dataset=test_dataset,\n",
    "    batch_size=1,\n",
    "    shuffle=False\n",
    ")\n",
    "\n",
    "model.load_state_dict(torch.load(MODEL_SAVE))\n",
    "model.to(DEVICE)\n",
    "model.eval()  # 모델을 평가 모드로 설정\n",
    "\n",
    "with torch.no_grad():\n",
    "    for imgs in test_dataloader:  # 테스트 데이터로더 사용\n",
    "        imgs = imgs.to(DEVICE)\n",
    "        # 예측\n",
    "        output = model(imgs)\n",
    "        \n",
    "        # 확률값으로 변환\n",
    "        probabilities = nn.functional.softmax(output, dim=1) # 확률로 변환 -> softmax\n",
    "        # # 가장 높은 확률을 가진 클래스 선택\n",
    "        predicted_classes = torch.argmax(probabilities, dim=1)\n",
    "        # # 예측 결과 저장\n",
    "        # predictions.extend(predicted_classes.cpu().numpy())\n",
    "\n",
    "# 예측 결과 출력\n",
    "print(combined_imgs[num])\n",
    "print(predicted_classes.item())\n",
    "print(label_data[predicted_classes.item()])"
   ]
  },
  {
   "cell_type": "code",
   "execution_count": null,
   "id": "10273906-2dc6-4f05-a694-e3d40189feb5",
   "metadata": {},
   "outputs": [],
   "source": []
  }
 ],
 "metadata": {
  "kernelspec": {
   "display_name": "Python 3 (ipykernel)",
   "language": "python",
   "name": "python3"
  },
  "language_info": {
   "codemirror_mode": {
    "name": "ipython",
    "version": 3
   },
   "file_extension": ".py",
   "mimetype": "text/x-python",
   "name": "python",
   "nbconvert_exporter": "python",
   "pygments_lexer": "ipython3",
   "version": "3.11.6"
  }
 },
 "nbformat": 4,
 "nbformat_minor": 5
}
