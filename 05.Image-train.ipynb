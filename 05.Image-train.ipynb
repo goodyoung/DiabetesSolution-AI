{
 "cells": [
  {
   "cell_type": "code",
   "execution_count": 32,
   "id": "85daeb69-bd4e-4511-b4dc-7d3663beb7ba",
   "metadata": {
    "executionInfo": {
     "elapsed": 8176,
     "status": "ok",
     "timestamp": 1710024775364,
     "user": {
      "displayName": "고건영",
      "userId": "13176787411488158617"
     },
     "user_tz": -540
    },
    "id": "b857OigSz5Az"
   },
   "outputs": [],
   "source": [
    "import torch\n",
    "from torch.utils.data import DataLoader, Dataset\n",
    "from torchvision import transforms\n",
    "import torchvision.models as models\n",
    "from torch import optim\n",
    "import torch.nn as nn\n",
    "import torch.nn.functional as F\n",
    "import json\n",
    "import numpy as np\n",
    "import os\n",
    "import cv2\n",
    "from tqdm import tqdm\n",
    "import random\n",
    "from matplotlib import pyplot as plt\n",
    "import pandas as pd\n",
    "from collections import namedtuple\n",
    "from sklearn.metrics import accuracy_score\n",
    "from copy import deepcopy\n",
    "\n",
    "import albumentations as A\n",
    "from albumentations.pytorch import ToTensorV2\n",
    "from sklearn.model_selection import train_test_split\n",
    "from sklearn.metrics import accuracy_score"
   ]
  },
  {
   "cell_type": "code",
   "execution_count": 33,
   "id": "6de52576-e8bf-4149-95af-b4e9f9dd7969",
   "metadata": {},
   "outputs": [],
   "source": [
    "from PIL import Image, ImageFile\n",
    "ImageFile.LOAD_TRUNCATED_IMAGES = True"
   ]
  },
  {
   "cell_type": "markdown",
   "id": "a303b1b6-ad7a-42ae-814e-6abd01a69dc2",
   "metadata": {},
   "source": [
    "### SEED"
   ]
  },
  {
   "cell_type": "code",
   "execution_count": 34,
   "id": "05ac6768-4c0a-4e59-9964-66da76b21180",
   "metadata": {
    "executionInfo": {
     "elapsed": 5,
     "status": "ok",
     "timestamp": 1710024775364,
     "user": {
      "displayName": "고건영",
      "userId": "13176787411488158617"
     },
     "user_tz": -540
    },
    "id": "goZno44sz7i2"
   },
   "outputs": [],
   "source": [
    "def seed_everything(seed):\n",
    "    random.seed(seed)\n",
    "    os.environ['PYTHONHASHSEED'] = str(seed)\n",
    "    np.random.seed(seed)\n",
    "    torch.manual_seed(seed)\n",
    "    torch.cuda.manual_seed(seed)\n",
    "    torch.backends.cudnn.deterministic = True\n",
    "    torch.backends.cudnn.benchmark = True"
   ]
  },
  {
   "cell_type": "markdown",
   "id": "428ec63b-90e4-4c81-ad86-f88199463cd5",
   "metadata": {
    "id": "nWvyaaxHChPf"
   },
   "source": [
    "# Dataset"
   ]
  },
  {
   "cell_type": "code",
   "execution_count": 56,
   "id": "881af7a3-a187-4dff-99cc-5423f359959b",
   "metadata": {},
   "outputs": [],
   "source": [
    "import cv2\n",
    "from torch.utils.data import Dataset\n",
    "from PIL import Image\n",
    "\n",
    "class CustomDataset(Dataset):\n",
    "    def __init__(self, imgs_path: list, labels_path: list=None, transform = None, mode='train'):\n",
    "        self.imgs_path = imgs_path\n",
    "        self.labels_path = labels_path\n",
    "        self.transform = transform\n",
    "        self.mode = mode\n",
    "\n",
    "    def __len__(self):\n",
    "        return len(self.imgs_path)\n",
    "        \n",
    "    def __getitem__(self, idx):\n",
    "        img_path = self.imgs_path[idx]\n",
    "        try:\n",
    "            img = np.asarray(Image.open(img_path).convert('RGB'))  # OpenCV 대신 Pillow 사용\n",
    "            if self.transform:\n",
    "                img = self.transform(image = img)['image']\n",
    "        except Exception as e:\n",
    "            print(f\"Error loading image at index {idx}: {e}, {img_path}\")\n",
    "            return\n",
    "\n",
    "        if self.mode == 'train' or self.mode == 'valid':\n",
    "            label_path = self.labels_path[idx]\n",
    "            with open(label_path, 'r') as file:\n",
    "                lines = file.readlines()\n",
    "            labels = [float(x) for x in lines[0].strip().split()]\n",
    "            lab = labels[0]\n",
    "            return img, torch.tensor(lab)\n",
    "            \n",
    "        else: # test일 때\n",
    "            return img"
   ]
  },
  {
   "cell_type": "markdown",
   "id": "6b44e09b-4426-478b-8d92-c1fccf547ca8",
   "metadata": {
    "id": "SHJNmYHlCUEy"
   },
   "source": [
    "# Train"
   ]
  },
  {
   "cell_type": "markdown",
   "id": "4dc138a5-4c34-4360-96cf-939e6ac0b882",
   "metadata": {
    "id": "EEGMBg0_QrIY"
   },
   "source": [
    "### Data load"
   ]
  },
  {
   "cell_type": "code",
   "execution_count": 57,
   "id": "2bd11d4e-d548-4de2-9997-f1016b6d58ba",
   "metadata": {
    "executionInfo": {
     "elapsed": 5,
     "status": "ok",
     "timestamp": 1710026175088,
     "user": {
      "displayName": "고건영",
      "userId": "13176787411488158617"
     },
     "user_tz": -540
    },
    "id": "95awiQ48Cbqh"
   },
   "outputs": [],
   "source": [
    "BASE = '/mnt/d/Jupyter-Goodyoung/DiabetesSolution-AI'\n",
    "SAVE_PATH = f\"{BASE}/save\"\n",
    "MODEL_SAVE = f'{SAVE_PATH}/EfficientNetB0-3.pth' #\n",
    "WORKERS = 2\n",
    "EPOCHS = 50 # 훈련 epoch 지정\n",
    "BATCH_SIZE = 8# batch size 지정\n",
    "# IMAGE_SIZE = (256, 256) # 이미지 크기 지정\n",
    "NUM_CLASSES = 722\n",
    "RANDOM_STATE = 42 # seed 고정\n",
    "DEVICE = torch.device(\"cuda\") if torch.cuda.is_available() else torch.device(\"cpu\")\n",
    "\n",
    "if not os.path.exists(SAVE_PATH):\n",
    "    os.makedirs(SAVE_PATH)\n",
    "\n",
    "seed_everything(RANDOM_STATE) # SEED 고정"
   ]
  },
  {
   "cell_type": "code",
   "execution_count": 58,
   "id": "fc5ea298-59f7-4f08-a1c5-f9f75901e689",
   "metadata": {
    "executionInfo": {
     "elapsed": 4,
     "status": "ok",
     "timestamp": 1710026175088,
     "user": {
      "displayName": "고건영",
      "userId": "13176787411488158617"
     },
     "user_tz": -540
    },
    "id": "jXoZmn6iMdVj"
   },
   "outputs": [],
   "source": [
    "# 파일에서 문자열을 읽어와 리스트에 저장하는 함수\n",
    "def read_strings_from_file(filename):\n",
    "    strings = []\n",
    "    with open(filename, 'r') as f:\n",
    "        if filename == \"TL_files.txt\" or filename == \"VL_files.txt\" :\n",
    "            for line in f:\n",
    "                line = line.strip()\n",
    "                line = line[:-4] +\"txt\"\n",
    "                # line = line[:-4] +\"json\"\n",
    "                strings.append(line)  # 줄바꿈 문자 제거            \n",
    "        else:    \n",
    "            for line in f:\n",
    "                strings.append(line.strip())  # 줄바꿈 문자 제거\n",
    "    return strings\n",
    "TL_files = read_strings_from_file('TL_files.txt')\n",
    "TS_files = read_strings_from_file('TS_files.txt')\n",
    "VL_files = read_strings_from_file('VL_files.txt')\n",
    "VS_files = read_strings_from_file('VS_files.txt')\n",
    "\n",
    "# train : val = 8 : 2 나누기\n",
    "combined_imgs = TS_files + VS_files\n",
    "combined_label = TL_files + VL_files\n",
    "\n",
    "divide_num =1000\n",
    "if divide_num:\n",
    "    real_imgs, real_label = combined_imgs[:divide_num], combined_label[:divide_num]\n",
    "else:\n",
    "    real_imgs, real_label = combined_imgs, combined_label\n",
    "    \n",
    "x_tr, x_val = train_test_split(real_imgs, test_size=0.2, random_state=RANDOM_STATE)\n",
    "y_tr, y_val = train_test_split(real_label, test_size=0.2, random_state=RANDOM_STATE) # 둘 다 같은 비율로 나뉘어 진다\n",
    "\n",
    "transform = A.Compose([\n",
    "        A.Resize(480,480),\n",
    "        # A.Normalize(mean=(0.485, 0.456, 0.406), std=(0.229, 0.224, 0.225), max_pixel_value=255.0, always_apply=False, p=1.0),\n",
    "        A.Normalize(0.5),\n",
    "        ToTensorV2()\n",
    "])\n",
    "train_dataset = CustomDataset(x_tr, y_tr, transform = transform, mode = 'train')\n",
    "valid_dataset = CustomDataset(x_val, y_val, transform = transform, mode = 'valid')\n",
    "\n",
    "train_dataloader = DataLoader(\n",
    "    dataset=train_dataset,\n",
    "    batch_size=BATCH_SIZE,\n",
    "    shuffle=True,\n",
    "    num_workers=WORKERS,\n",
    "    pin_memory=True\n",
    ")\n",
    "val_dataloader = DataLoader(\n",
    "    dataset=valid_dataset,\n",
    "    batch_size=BATCH_SIZE,\n",
    "    shuffle=False,\n",
    "    num_workers=WORKERS,\n",
    "    pin_memory=True\n",
    "        )"
   ]
  },
  {
   "cell_type": "markdown",
   "id": "55d652b9-9c7d-4660-bfbe-2f44e06d8af2",
   "metadata": {
    "id": "71BAohVtPmnP"
   },
   "source": [
    "### Model train"
   ]
  },
  {
   "cell_type": "markdown",
   "id": "ba0c9313-9a23-4d63-a918-f50fe7dbfbc4",
   "metadata": {
    "id": "KSJbSsDQy-vh"
   },
   "source": [
    "#### model selection"
   ]
  },
  {
   "cell_type": "code",
   "execution_count": 59,
   "id": "7ce8d1cd-771a-489d-8260-d8a8d9aa8c29",
   "metadata": {
    "executionInfo": {
     "elapsed": 4,
     "status": "ok",
     "timestamp": 1710026176892,
     "user": {
      "displayName": "고건영",
      "userId": "13176787411488158617"
     },
     "user_tz": -540
    },
    "id": "t4sThsQmNgFF"
   },
   "outputs": [],
   "source": [
    "# torch init cache\n",
    "import torch, gc\n",
    "gc.collect()\n",
    "torch.cuda.empty_cache()"
   ]
  },
  {
   "cell_type": "code",
   "execution_count": 60,
   "id": "f9d0b501-aeb6-4523-ace7-4a75d7c8dc65",
   "metadata": {},
   "outputs": [],
   "source": [
    "import timm\n",
    "model = timm.create_model('efficientnet_b0', pretrained=True)\n",
    "model.classifier = nn.Linear(1280,NUM_CLASSES)"
   ]
  },
  {
   "cell_type": "code",
   "execution_count": 61,
   "id": "5bd105dd-eb5a-41d4-b305-d7297fa15055",
   "metadata": {},
   "outputs": [],
   "source": [
    "optimizer = optim.AdamW(model.parameters(), lr=0.001)#(params=model.parameters(), lr=0.0001)\n",
    "loss_fn = nn.CrossEntropyLoss().to(DEVICE)\n",
    "lr_scheduler = optim.lr_scheduler.CosineAnnealingLR(optimizer, T_max=5, eta_min=0.000001)"
   ]
  },
  {
   "cell_type": "code",
   "execution_count": null,
   "id": "df8d70c9-ac26-4785-95a3-30294806bb44",
   "metadata": {
    "colab": {
     "base_uri": "https://localhost:8080/",
     "height": 495,
     "referenced_widgets": [
      "6bbb135fe51a416f832dc1f03639d1fb",
      "c91e9d469c044b61991b9f28c8f9d09e",
      "28088d2ffba24dc69e732a41aba9bc6b",
      "ed0c353831a64965a0f6fd28ede9e171",
      "c2d949edfd134daa9f0ecbabc23162a0",
      "399523c948d34ef6a68ea9113020c06c",
      "bffd9d14da8c4ecaab5e14e91189d9db",
      "c6c8ecda021c4b168d3063c750e1ad05",
      "20c3c2f34b474d968ee3ff8cdde41f59",
      "913249dc19844b9392a7d5b022e80d6a",
      "523a202649ec4042bc855d2ad8d5636c"
     ]
    },
    "executionInfo": {
     "elapsed": 46050,
     "status": "error",
     "timestamp": 1710026223376,
     "user": {
      "displayName": "고건영",
      "userId": "13176787411488158617"
     },
     "user_tz": -540
    },
    "id": "EsBjrh_mRjdt",
    "outputId": "72684dc2-e149-4383-b87d-7cca047deb66",
    "scrolled": true
   },
   "outputs": [
    {
     "name": "stdout",
     "output_type": "stream",
     "text": [
      "Epoch 1/50\n",
      "--------------------\n"
     ]
    },
    {
     "name": "stderr",
     "output_type": "stream",
     "text": [
      "100%|█████████████████████████████████████████████████████████████████████████████████| 100/100 [01:01<00:00,  1.63it/s]\n",
      "100%|███████████████████████████████████████████████████████████████████████████████████| 25/25 [00:15<00:00,  1.59it/s]\n"
     ]
    },
    {
     "name": "stdout",
     "output_type": "stream",
     "text": [
      "EPOCH: 1, TRAIN LOSS: 1.978417,  VAL LOSS: 0.693702, VAL ACC: 0.900000\n",
      "Model Save\n",
      "Epoch 2/50\n",
      "--------------------\n"
     ]
    },
    {
     "name": "stderr",
     "output_type": "stream",
     "text": [
      "100%|█████████████████████████████████████████████████████████████████████████████████| 100/100 [00:34<00:00,  2.86it/s]\n",
      "100%|███████████████████████████████████████████████████████████████████████████████████| 25/25 [00:08<00:00,  2.96it/s]\n"
     ]
    },
    {
     "name": "stdout",
     "output_type": "stream",
     "text": [
      "EPOCH: 2, TRAIN LOSS: 0.345961,  VAL LOSS: 0.215316, VAL ACC: 0.930000\n",
      "Model Save\n",
      "Epoch 3/50\n",
      "--------------------\n"
     ]
    },
    {
     "name": "stderr",
     "output_type": "stream",
     "text": [
      "  7%|█████▊                                                                             | 7/100 [00:02<00:32,  2.87it/s]"
     ]
    }
   ],
   "source": [
    "from collections import defaultdict\n",
    "\n",
    "if os.path.exists(MODEL_SAVE): # Model Save point가 있을 경우\n",
    "    checkpoint = torch.load(MODEL_SAVE)\n",
    "    \n",
    "    model.load_state_dict(checkpoint[\"model_state_dict\"])\n",
    "    model.to(DEVICE) # optimizer 전에 선언\n",
    "    optimizer.load_state_dict(checkpoint['optimizer_state_dict'])\n",
    "    \n",
    "    START_EPOCH, best_val_loss= checkpoint[\"start_epoch\"], checkpoint[\"best_val_loss\"]\n",
    "else:\n",
    "    checkpoint = defaultdict()\n",
    "    START_EPOCH, best_val_acc = 0, 0 # 가장 큰 수\n",
    "    model.to(DEVICE) # optimizer 전에 선언\n",
    "    \n",
    "early_stop = 0\n",
    "\n",
    "for epoch in range(START_EPOCH+1, EPOCHS+1):\n",
    "    print('Epoch {}/{}'.format(epoch, EPOCHS))\n",
    "    print('-'*20)\n",
    "    #### train ####\n",
    "    model.train()\n",
    "    train_losses = []\n",
    "    for imgs, label in tqdm(train_dataloader):\n",
    "        imgs = imgs.to(DEVICE)\n",
    "        label = label.to(DEVICE)\n",
    "        # 초기화\n",
    "        optimizer.zero_grad() \n",
    "        # 예측\n",
    "        output = model(imgs) \n",
    "        # 순전파\n",
    "        one_hot_label = torch.eye(NUM_CLASSES, device=label.device)[label.long()] # long -> int 같은 형식\n",
    "        loss = loss_fn(output, one_hot_label).to(DEVICE) \n",
    "        # 역전파\n",
    "        loss.backward() \n",
    "        # 학습\n",
    "        optimizer.step() \n",
    "        train_losses.append(loss.item())\n",
    "        \n",
    "    #### valid ####\n",
    "    model.eval()\n",
    "    val_accs, val_losses = [], []\n",
    "    with torch.no_grad():\n",
    "        for imgs, label in tqdm(val_dataloader):\n",
    "            imgs = imgs.to(DEVICE)\n",
    "            label = label.to(DEVICE)\n",
    "            # 예측\n",
    "            output = model(imgs)\n",
    "            # 순전파\n",
    "            one_hot_label = torch.eye(NUM_CLASSES, device=label.device)[label.long()] # long -> int 같은 형식\n",
    "            loss = loss_fn(output, one_hot_label).to(DEVICE)\n",
    "            \n",
    "            probabilities = F.softmax(output, dim=1)\n",
    "            predicted_classes = torch.argmax(probabilities, dim=1)\n",
    "            predicted_classes = predicted_classes.cpu().detach().numpy()\n",
    "            label = label.cpu().detach().numpy()\n",
    "            batch_acc = accuracy_score(label, predicted_classes)\n",
    "            \n",
    "            val_accs.append(batch_acc)\n",
    "            val_losses.append(loss.item())\n",
    "\n",
    "    \n",
    "    train_loss, val_loss, val_acc = np.mean(train_losses), np.mean(val_losses), np.mean(val_accs)\n",
    "    print(f\"EPOCH: {epoch}, TRAIN LOSS: {train_loss:.6f},  VAL LOSS: {val_loss:.6f}, VAL ACC: {val_acc:.6f}\")\n",
    "    \n",
    "    if lr_scheduler is not None:\n",
    "        lr_scheduler.step()\n",
    "        \n",
    "    if best_val_acc <= val_acc:\n",
    "        print(\"Model Save\")\n",
    "        early_stop = 0\n",
    "        best_val_acc = val_acc\n",
    "        checkpoint[\"start_epoch\"] = epoch\n",
    "        checkpoint[\"best_val_acc\"] = best_val_acc\n",
    "        checkpoint[\"model_state_dict\"] = model.state_dict()\n",
    "        checkpoint[\"optimizer_state_dict\"] = optimizer.state_dict()\n",
    "        \n",
    "        torch.save(checkpoint, MODEL_SAVE) # checkpoint 저장\n",
    "        \n",
    "        file_path = f'{SAVE_PATH}/result_all.txt' # 결과 debugging용\n",
    "        with open(file_path, 'a') as file:\n",
    "            file.write(f\"[BEST]: EPOCH: {epoch}, TRAIN LOSS: {train_loss:.6f},  VAL LOSS: {val_loss:.6f}, VAL ACC: {val_acc:.6f}\\n\")\n",
    "    else:\n",
    "        early_stop += 1\n",
    "\n",
    "    # early stop\n",
    "    if early_stop > 4:\n",
    "        print(\"Early Stop\")\n",
    "        break"
   ]
  },
  {
   "cell_type": "code",
   "execution_count": 31,
   "id": "eabcb7ca-fd53-4bb4-84e4-0faefcedf398",
   "metadata": {},
   "outputs": [
    {
     "ename": "AttributeError",
     "evalue": "'numpy.ndarray' object has no attribute 'softmax'",
     "output_type": "error",
     "traceback": [
      "\u001b[0;31m---------------------------------------------------------------------------\u001b[0m",
      "\u001b[0;31mAttributeError\u001b[0m                            Traceback (most recent call last)",
      "Cell \u001b[0;32mIn[31], line 1\u001b[0m\n\u001b[0;32m----> 1\u001b[0m probabilities \u001b[38;5;241m=\u001b[39m \u001b[43mF\u001b[49m\u001b[38;5;241;43m.\u001b[39;49m\u001b[43msoftmax\u001b[49m\u001b[43m(\u001b[49m\u001b[43moutput\u001b[49m\u001b[43m,\u001b[49m\u001b[43m \u001b[49m\u001b[43mdim\u001b[49m\u001b[38;5;241;43m=\u001b[39;49m\u001b[38;5;241;43m1\u001b[39;49m\u001b[43m)\u001b[49m\n\u001b[1;32m      2\u001b[0m predicted_classes \u001b[38;5;241m=\u001b[39m torch\u001b[38;5;241m.\u001b[39margmax(probabilities, dim\u001b[38;5;241m=\u001b[39m\u001b[38;5;241m1\u001b[39m)\n\u001b[1;32m      3\u001b[0m output \u001b[38;5;241m=\u001b[39m output\u001b[38;5;241m.\u001b[39mcpu()\u001b[38;5;241m.\u001b[39mdetach()\u001b[38;5;241m.\u001b[39mnumpy()\n",
      "File \u001b[0;32m~/.pyenv/versions/Jupyter4_P6/lib/python3.11/site-packages/torch/nn/functional.py:1856\u001b[0m, in \u001b[0;36msoftmax\u001b[0;34m(input, dim, _stacklevel, dtype)\u001b[0m\n\u001b[1;32m   1854\u001b[0m     dim \u001b[38;5;241m=\u001b[39m _get_softmax_dim(\u001b[38;5;124m\"\u001b[39m\u001b[38;5;124msoftmax\u001b[39m\u001b[38;5;124m\"\u001b[39m, \u001b[38;5;28minput\u001b[39m\u001b[38;5;241m.\u001b[39mdim(), _stacklevel)\n\u001b[1;32m   1855\u001b[0m \u001b[38;5;28;01mif\u001b[39;00m dtype \u001b[38;5;129;01mis\u001b[39;00m \u001b[38;5;28;01mNone\u001b[39;00m:\n\u001b[0;32m-> 1856\u001b[0m     ret \u001b[38;5;241m=\u001b[39m \u001b[38;5;28;43minput\u001b[39;49m\u001b[38;5;241;43m.\u001b[39;49m\u001b[43msoftmax\u001b[49m(dim)\n\u001b[1;32m   1857\u001b[0m \u001b[38;5;28;01melse\u001b[39;00m:\n\u001b[1;32m   1858\u001b[0m     ret \u001b[38;5;241m=\u001b[39m \u001b[38;5;28minput\u001b[39m\u001b[38;5;241m.\u001b[39msoftmax(dim, dtype\u001b[38;5;241m=\u001b[39mdtype)\n",
      "\u001b[0;31mAttributeError\u001b[0m: 'numpy.ndarray' object has no attribute 'softmax'"
     ]
    }
   ],
   "source": [
    "\n",
    "probabilities = F.softmax(output, dim=1)\n",
    "predicted_classes = torch.argmax(probabilities, dim=1)\n",
    "output = output.cpu().detach().numpy()\n",
    "label = label.cpu().detach().numpy()\n",
    "accuracy_score(label, predicted_classes)"
   ]
  },
  {
   "cell_type": "code",
   "execution_count": 17,
   "id": "9693cec3-7882-4871-bc60-4752c115ec52",
   "metadata": {
    "scrolled": true
   },
   "outputs": [
    {
     "data": {
      "text/plain": [
       "tensor([0., 0., 0., 0., 0., 0., 0., 0., 0., 0., 0., 0., 0., 0., 0., 0., 0., 0.,\n",
       "        0., 0., 0., 0., 0., 0., 0., 0., 0., 0., 0., 0., 0., 0., 0., 0., 0., 0.,\n",
       "        0., 0., 0., 0., 0., 0., 0., 0., 0., 0., 0., 0., 0., 0., 0., 0., 0., 0.,\n",
       "        0., 0., 0., 0., 0., 0., 0., 0., 0., 0., 0., 0., 0., 0., 0., 0., 0., 0.,\n",
       "        0., 0., 0., 0., 0., 0., 0., 0., 0., 0., 0., 0., 0., 0., 0., 0., 0., 0.,\n",
       "        0., 0., 0., 0., 0., 0., 0., 0., 0., 0., 0., 0., 0., 0., 0., 0., 0., 0.,\n",
       "        0., 0., 0., 0., 0., 0., 0., 0., 0., 0., 0., 0., 0., 0., 0., 0., 0., 0.,\n",
       "        0., 0., 0., 0., 0., 0., 0., 0., 0., 0., 0., 0., 0., 0., 0., 0., 0., 0.,\n",
       "        0., 0., 0., 0., 0., 0., 0., 0., 0., 0., 0., 0., 0., 0., 0., 0., 0., 0.,\n",
       "        0., 0., 0., 0., 0., 0., 0., 0., 0., 0., 0., 0., 0., 0., 0., 0., 0., 0.,\n",
       "        0., 0., 0., 0., 0., 0., 0., 0., 0., 0., 0., 0., 0., 0., 0., 0., 0., 0.,\n",
       "        0., 0., 0., 0., 0., 0., 0., 0., 0., 0., 0., 0., 0., 0., 0., 0., 0., 0.,\n",
       "        0., 0., 0., 0., 0., 0., 0., 0., 0., 0., 0., 0., 0., 0., 0., 0., 0., 0.,\n",
       "        0., 0., 0., 0., 0., 0., 0., 0., 0., 0., 0., 0., 0., 0., 0., 0., 0., 0.,\n",
       "        0., 0., 0., 0., 0., 0., 0., 0., 0., 0., 0., 0., 0., 0., 0., 0., 0., 0.,\n",
       "        0., 0., 0., 0., 0., 0., 0., 0., 0., 0., 0., 0., 0., 0., 0., 0., 0., 0.,\n",
       "        0., 0., 0., 0., 0., 0., 0., 0., 0., 0., 0., 0., 0., 0., 0., 0., 0., 0.,\n",
       "        0., 0., 0., 0., 0., 0., 0., 0., 0., 0., 0., 0., 0., 0., 0., 0., 0., 0.,\n",
       "        0., 0., 0., 0., 0., 0., 0., 0., 0., 0., 0., 0., 0., 0., 0., 0., 0., 0.,\n",
       "        0., 0., 0., 0., 0., 0., 0., 0., 0., 0., 0., 0., 0., 0., 0., 0., 0., 0.,\n",
       "        0., 0., 0., 0., 0., 0., 0., 0., 0., 0., 0., 0., 0., 0., 0., 0., 0., 0.,\n",
       "        0., 0., 0., 0., 0., 0., 0., 0., 0., 0., 0., 0., 0., 0., 0., 0., 0., 0.,\n",
       "        0., 0., 0., 0., 0., 0., 0., 0., 0., 0., 0., 0., 0., 0., 0., 0., 0., 0.,\n",
       "        0., 0., 0., 0., 0., 0., 0., 0., 0., 0., 0., 0., 0., 0., 0., 0., 0., 0.,\n",
       "        0., 0., 0., 0., 0., 0., 0., 0., 0., 0., 0., 0., 0., 0., 0., 0., 0., 0.,\n",
       "        0., 0., 0., 0., 0., 0., 0., 0., 0., 0., 0., 0., 0., 0., 0., 0., 0., 0.,\n",
       "        0., 0., 0., 0., 0., 0., 0., 0., 0., 0., 0., 0., 0., 0., 0., 0., 0., 0.,\n",
       "        0., 0., 0., 0., 0., 0., 0., 0., 0., 0., 0., 0., 0., 0., 0., 0., 0., 0.,\n",
       "        0., 0., 0., 0., 0., 0., 0., 0., 0., 0., 0., 0., 0., 0., 0., 0., 0., 0.,\n",
       "        0., 0., 0., 0., 0., 0., 0., 0., 0., 0., 0., 0., 0., 0., 0., 0., 0., 0.,\n",
       "        0., 0., 0., 0., 0., 0., 0., 0., 0., 0., 0., 0., 0., 0., 0., 0., 0., 0.,\n",
       "        0., 0., 0., 0., 0., 0., 0., 0., 0., 0., 0., 0., 0., 0., 0., 0., 0., 0.,\n",
       "        0., 0., 0., 0., 0., 0., 0., 0., 0., 0., 0., 0., 0., 0., 0., 0., 0., 0.,\n",
       "        0., 0., 0., 0., 0., 0., 0., 0., 0., 0., 0., 0., 0., 0., 0., 0., 0., 0.,\n",
       "        0., 0., 0., 0., 0., 0., 0., 0., 0., 0., 0., 0., 0., 0., 0., 0., 0., 0.,\n",
       "        0., 0., 0., 0., 0., 0., 0., 0., 0., 0., 0., 0., 0., 0., 0., 0., 0., 0.,\n",
       "        0., 0., 0., 0., 0., 0., 0., 0., 0., 0., 0., 0., 0., 0., 0., 0., 0., 0.,\n",
       "        0., 0., 0., 0., 0., 1., 0., 0., 0., 0., 0., 0., 0., 0., 0., 0., 0., 0.,\n",
       "        0., 0., 0., 0., 0., 0., 0., 0., 0., 0., 0., 0., 0., 0., 0., 0., 0., 0.,\n",
       "        0., 0., 0., 0., 0., 0., 0., 0., 0., 0., 0., 0., 0., 0., 0., 0., 0., 0.,\n",
       "        0., 0.], device='cuda:0')"
      ]
     },
     "execution_count": 17,
     "metadata": {},
     "output_type": "execute_result"
    }
   ],
   "source": [
    "one_hot_label[0]"
   ]
  },
  {
   "cell_type": "code",
   "execution_count": 22,
   "id": "064725dd-dffb-400e-93d3-6afc6a1c02fd",
   "metadata": {},
   "outputs": [
    {
     "data": {
      "text/plain": [
       "torch.Size([8, 722])"
      ]
     },
     "execution_count": 22,
     "metadata": {},
     "output_type": "execute_result"
    }
   ],
   "source": [
    "output.shape"
   ]
  },
  {
   "cell_type": "code",
   "execution_count": 26,
   "id": "33dd269a-4150-4a87-b17c-9e594a64709d",
   "metadata": {},
   "outputs": [],
   "source": []
  },
  {
   "cell_type": "code",
   "execution_count": 29,
   "id": "37adc616-5407-4ad6-aadf-0d5ef0b1f1d3",
   "metadata": {
    "scrolled": true
   },
   "outputs": [
    {
     "ename": "TypeError",
     "evalue": "can't convert cuda:0 device type tensor to numpy. Use Tensor.cpu() to copy the tensor to host memory first.",
     "output_type": "error",
     "traceback": [
      "\u001b[0;31m---------------------------------------------------------------------------\u001b[0m",
      "\u001b[0;31mTypeError\u001b[0m                                 Traceback (most recent call last)",
      "Cell \u001b[0;32mIn[29], line 1\u001b[0m\n\u001b[0;32m----> 1\u001b[0m \u001b[43maccuracy_score\u001b[49m\u001b[43m(\u001b[49m\u001b[43mlabel\u001b[49m\u001b[43m,\u001b[49m\u001b[43m \u001b[49m\u001b[43mpredicted_classes\u001b[49m\u001b[43m)\u001b[49m\n",
      "File \u001b[0;32m~/.pyenv/versions/Jupyter4_P6/lib/python3.11/site-packages/sklearn/utils/_param_validation.py:214\u001b[0m, in \u001b[0;36mvalidate_params.<locals>.decorator.<locals>.wrapper\u001b[0;34m(*args, **kwargs)\u001b[0m\n\u001b[1;32m    208\u001b[0m \u001b[38;5;28;01mtry\u001b[39;00m:\n\u001b[1;32m    209\u001b[0m     \u001b[38;5;28;01mwith\u001b[39;00m config_context(\n\u001b[1;32m    210\u001b[0m         skip_parameter_validation\u001b[38;5;241m=\u001b[39m(\n\u001b[1;32m    211\u001b[0m             prefer_skip_nested_validation \u001b[38;5;129;01mor\u001b[39;00m global_skip_validation\n\u001b[1;32m    212\u001b[0m         )\n\u001b[1;32m    213\u001b[0m     ):\n\u001b[0;32m--> 214\u001b[0m         \u001b[38;5;28;01mreturn\u001b[39;00m \u001b[43mfunc\u001b[49m\u001b[43m(\u001b[49m\u001b[38;5;241;43m*\u001b[39;49m\u001b[43margs\u001b[49m\u001b[43m,\u001b[49m\u001b[43m \u001b[49m\u001b[38;5;241;43m*\u001b[39;49m\u001b[38;5;241;43m*\u001b[39;49m\u001b[43mkwargs\u001b[49m\u001b[43m)\u001b[49m\n\u001b[1;32m    215\u001b[0m \u001b[38;5;28;01mexcept\u001b[39;00m InvalidParameterError \u001b[38;5;28;01mas\u001b[39;00m e:\n\u001b[1;32m    216\u001b[0m     \u001b[38;5;66;03m# When the function is just a wrapper around an estimator, we allow\u001b[39;00m\n\u001b[1;32m    217\u001b[0m     \u001b[38;5;66;03m# the function to delegate validation to the estimator, but we replace\u001b[39;00m\n\u001b[1;32m    218\u001b[0m     \u001b[38;5;66;03m# the name of the estimator by the name of the function in the error\u001b[39;00m\n\u001b[1;32m    219\u001b[0m     \u001b[38;5;66;03m# message to avoid confusion.\u001b[39;00m\n\u001b[1;32m    220\u001b[0m     msg \u001b[38;5;241m=\u001b[39m re\u001b[38;5;241m.\u001b[39msub(\n\u001b[1;32m    221\u001b[0m         \u001b[38;5;124mr\u001b[39m\u001b[38;5;124m\"\u001b[39m\u001b[38;5;124mparameter of \u001b[39m\u001b[38;5;124m\\\u001b[39m\u001b[38;5;124mw+ must be\u001b[39m\u001b[38;5;124m\"\u001b[39m,\n\u001b[1;32m    222\u001b[0m         \u001b[38;5;124mf\u001b[39m\u001b[38;5;124m\"\u001b[39m\u001b[38;5;124mparameter of \u001b[39m\u001b[38;5;132;01m{\u001b[39;00mfunc\u001b[38;5;241m.\u001b[39m\u001b[38;5;18m__qualname__\u001b[39m\u001b[38;5;132;01m}\u001b[39;00m\u001b[38;5;124m must be\u001b[39m\u001b[38;5;124m\"\u001b[39m,\n\u001b[1;32m    223\u001b[0m         \u001b[38;5;28mstr\u001b[39m(e),\n\u001b[1;32m    224\u001b[0m     )\n",
      "File \u001b[0;32m~/.pyenv/versions/Jupyter4_P6/lib/python3.11/site-packages/sklearn/metrics/_classification.py:220\u001b[0m, in \u001b[0;36maccuracy_score\u001b[0;34m(y_true, y_pred, normalize, sample_weight)\u001b[0m\n\u001b[1;32m    154\u001b[0m \u001b[38;5;250m\u001b[39m\u001b[38;5;124;03m\"\"\"Accuracy classification score.\u001b[39;00m\n\u001b[1;32m    155\u001b[0m \n\u001b[1;32m    156\u001b[0m \u001b[38;5;124;03mIn multilabel classification, this function computes subset accuracy:\u001b[39;00m\n\u001b[0;32m   (...)\u001b[0m\n\u001b[1;32m    216\u001b[0m \u001b[38;5;124;03m0.5\u001b[39;00m\n\u001b[1;32m    217\u001b[0m \u001b[38;5;124;03m\"\"\"\u001b[39;00m\n\u001b[1;32m    219\u001b[0m \u001b[38;5;66;03m# Compute accuracy for each possible representation\u001b[39;00m\n\u001b[0;32m--> 220\u001b[0m y_type, y_true, y_pred \u001b[38;5;241m=\u001b[39m \u001b[43m_check_targets\u001b[49m\u001b[43m(\u001b[49m\u001b[43my_true\u001b[49m\u001b[43m,\u001b[49m\u001b[43m \u001b[49m\u001b[43my_pred\u001b[49m\u001b[43m)\u001b[49m\n\u001b[1;32m    221\u001b[0m check_consistent_length(y_true, y_pred, sample_weight)\n\u001b[1;32m    222\u001b[0m \u001b[38;5;28;01mif\u001b[39;00m y_type\u001b[38;5;241m.\u001b[39mstartswith(\u001b[38;5;124m\"\u001b[39m\u001b[38;5;124mmultilabel\u001b[39m\u001b[38;5;124m\"\u001b[39m):\n",
      "File \u001b[0;32m~/.pyenv/versions/Jupyter4_P6/lib/python3.11/site-packages/sklearn/metrics/_classification.py:85\u001b[0m, in \u001b[0;36m_check_targets\u001b[0;34m(y_true, y_pred)\u001b[0m\n\u001b[1;32m     58\u001b[0m \u001b[38;5;250m\u001b[39m\u001b[38;5;124;03m\"\"\"Check that y_true and y_pred belong to the same classification task.\u001b[39;00m\n\u001b[1;32m     59\u001b[0m \n\u001b[1;32m     60\u001b[0m \u001b[38;5;124;03mThis converts multiclass or binary types to a common shape, and raises a\u001b[39;00m\n\u001b[0;32m   (...)\u001b[0m\n\u001b[1;32m     82\u001b[0m \u001b[38;5;124;03my_pred : array or indicator matrix\u001b[39;00m\n\u001b[1;32m     83\u001b[0m \u001b[38;5;124;03m\"\"\"\u001b[39;00m\n\u001b[1;32m     84\u001b[0m check_consistent_length(y_true, y_pred)\n\u001b[0;32m---> 85\u001b[0m type_true \u001b[38;5;241m=\u001b[39m \u001b[43mtype_of_target\u001b[49m\u001b[43m(\u001b[49m\u001b[43my_true\u001b[49m\u001b[43m,\u001b[49m\u001b[43m \u001b[49m\u001b[43minput_name\u001b[49m\u001b[38;5;241;43m=\u001b[39;49m\u001b[38;5;124;43m\"\u001b[39;49m\u001b[38;5;124;43my_true\u001b[39;49m\u001b[38;5;124;43m\"\u001b[39;49m\u001b[43m)\u001b[49m\n\u001b[1;32m     86\u001b[0m type_pred \u001b[38;5;241m=\u001b[39m type_of_target(y_pred, input_name\u001b[38;5;241m=\u001b[39m\u001b[38;5;124m\"\u001b[39m\u001b[38;5;124my_pred\u001b[39m\u001b[38;5;124m\"\u001b[39m)\n\u001b[1;32m     88\u001b[0m y_type \u001b[38;5;241m=\u001b[39m {type_true, type_pred}\n",
      "File \u001b[0;32m~/.pyenv/versions/Jupyter4_P6/lib/python3.11/site-packages/sklearn/utils/multiclass.py:311\u001b[0m, in \u001b[0;36mtype_of_target\u001b[0;34m(y, input_name)\u001b[0m\n\u001b[1;32m    308\u001b[0m \u001b[38;5;28;01mif\u001b[39;00m sparse_pandas:\n\u001b[1;32m    309\u001b[0m     \u001b[38;5;28;01mraise\u001b[39;00m \u001b[38;5;167;01mValueError\u001b[39;00m(\u001b[38;5;124m\"\u001b[39m\u001b[38;5;124my cannot be class \u001b[39m\u001b[38;5;124m'\u001b[39m\u001b[38;5;124mSparseSeries\u001b[39m\u001b[38;5;124m'\u001b[39m\u001b[38;5;124m or \u001b[39m\u001b[38;5;124m'\u001b[39m\u001b[38;5;124mSparseArray\u001b[39m\u001b[38;5;124m'\u001b[39m\u001b[38;5;124m\"\u001b[39m)\n\u001b[0;32m--> 311\u001b[0m \u001b[38;5;28;01mif\u001b[39;00m \u001b[43mis_multilabel\u001b[49m\u001b[43m(\u001b[49m\u001b[43my\u001b[49m\u001b[43m)\u001b[49m:\n\u001b[1;32m    312\u001b[0m     \u001b[38;5;28;01mreturn\u001b[39;00m \u001b[38;5;124m\"\u001b[39m\u001b[38;5;124mmultilabel-indicator\u001b[39m\u001b[38;5;124m\"\u001b[39m\n\u001b[1;32m    314\u001b[0m \u001b[38;5;66;03m# DeprecationWarning will be replaced by ValueError, see NEP 34\u001b[39;00m\n\u001b[1;32m    315\u001b[0m \u001b[38;5;66;03m# https://numpy.org/neps/nep-0034-infer-dtype-is-object.html\u001b[39;00m\n\u001b[1;32m    316\u001b[0m \u001b[38;5;66;03m# We therefore catch both deprecation (NumPy < 1.24) warning and\u001b[39;00m\n\u001b[1;32m    317\u001b[0m \u001b[38;5;66;03m# value error (NumPy >= 1.24).\u001b[39;00m\n",
      "File \u001b[0;32m~/.pyenv/versions/Jupyter4_P6/lib/python3.11/site-packages/sklearn/utils/multiclass.py:167\u001b[0m, in \u001b[0;36mis_multilabel\u001b[0;34m(y)\u001b[0m\n\u001b[1;32m    165\u001b[0m warnings\u001b[38;5;241m.\u001b[39msimplefilter(\u001b[38;5;124m\"\u001b[39m\u001b[38;5;124merror\u001b[39m\u001b[38;5;124m\"\u001b[39m, VisibleDeprecationWarning)\n\u001b[1;32m    166\u001b[0m \u001b[38;5;28;01mtry\u001b[39;00m:\n\u001b[0;32m--> 167\u001b[0m     y \u001b[38;5;241m=\u001b[39m \u001b[43mcheck_array\u001b[49m\u001b[43m(\u001b[49m\u001b[43my\u001b[49m\u001b[43m,\u001b[49m\u001b[43m \u001b[49m\u001b[43mdtype\u001b[49m\u001b[38;5;241;43m=\u001b[39;49m\u001b[38;5;28;43;01mNone\u001b[39;49;00m\u001b[43m,\u001b[49m\u001b[43m \u001b[49m\u001b[38;5;241;43m*\u001b[39;49m\u001b[38;5;241;43m*\u001b[39;49m\u001b[43mcheck_y_kwargs\u001b[49m\u001b[43m)\u001b[49m\n\u001b[1;32m    168\u001b[0m \u001b[38;5;28;01mexcept\u001b[39;00m (VisibleDeprecationWarning, \u001b[38;5;167;01mValueError\u001b[39;00m) \u001b[38;5;28;01mas\u001b[39;00m e:\n\u001b[1;32m    169\u001b[0m     \u001b[38;5;28;01mif\u001b[39;00m \u001b[38;5;28mstr\u001b[39m(e)\u001b[38;5;241m.\u001b[39mstartswith(\u001b[38;5;124m\"\u001b[39m\u001b[38;5;124mComplex data not supported\u001b[39m\u001b[38;5;124m\"\u001b[39m):\n",
      "File \u001b[0;32m~/.pyenv/versions/Jupyter4_P6/lib/python3.11/site-packages/sklearn/utils/validation.py:915\u001b[0m, in \u001b[0;36mcheck_array\u001b[0;34m(array, accept_sparse, accept_large_sparse, dtype, order, copy, force_all_finite, ensure_2d, allow_nd, ensure_min_samples, ensure_min_features, estimator, input_name)\u001b[0m\n\u001b[1;32m    913\u001b[0m         array \u001b[38;5;241m=\u001b[39m xp\u001b[38;5;241m.\u001b[39mastype(array, dtype, copy\u001b[38;5;241m=\u001b[39m\u001b[38;5;28;01mFalse\u001b[39;00m)\n\u001b[1;32m    914\u001b[0m     \u001b[38;5;28;01melse\u001b[39;00m:\n\u001b[0;32m--> 915\u001b[0m         array \u001b[38;5;241m=\u001b[39m \u001b[43m_asarray_with_order\u001b[49m\u001b[43m(\u001b[49m\u001b[43marray\u001b[49m\u001b[43m,\u001b[49m\u001b[43m \u001b[49m\u001b[43morder\u001b[49m\u001b[38;5;241;43m=\u001b[39;49m\u001b[43morder\u001b[49m\u001b[43m,\u001b[49m\u001b[43m \u001b[49m\u001b[43mdtype\u001b[49m\u001b[38;5;241;43m=\u001b[39;49m\u001b[43mdtype\u001b[49m\u001b[43m,\u001b[49m\u001b[43m \u001b[49m\u001b[43mxp\u001b[49m\u001b[38;5;241;43m=\u001b[39;49m\u001b[43mxp\u001b[49m\u001b[43m)\u001b[49m\n\u001b[1;32m    916\u001b[0m \u001b[38;5;28;01mexcept\u001b[39;00m ComplexWarning \u001b[38;5;28;01mas\u001b[39;00m complex_warning:\n\u001b[1;32m    917\u001b[0m     \u001b[38;5;28;01mraise\u001b[39;00m \u001b[38;5;167;01mValueError\u001b[39;00m(\n\u001b[1;32m    918\u001b[0m         \u001b[38;5;124m\"\u001b[39m\u001b[38;5;124mComplex data not supported\u001b[39m\u001b[38;5;130;01m\\n\u001b[39;00m\u001b[38;5;132;01m{}\u001b[39;00m\u001b[38;5;130;01m\\n\u001b[39;00m\u001b[38;5;124m\"\u001b[39m\u001b[38;5;241m.\u001b[39mformat(array)\n\u001b[1;32m    919\u001b[0m     ) \u001b[38;5;28;01mfrom\u001b[39;00m \u001b[38;5;21;01mcomplex_warning\u001b[39;00m\n",
      "File \u001b[0;32m~/.pyenv/versions/Jupyter4_P6/lib/python3.11/site-packages/sklearn/utils/_array_api.py:380\u001b[0m, in \u001b[0;36m_asarray_with_order\u001b[0;34m(array, dtype, order, copy, xp)\u001b[0m\n\u001b[1;32m    378\u001b[0m     array \u001b[38;5;241m=\u001b[39m numpy\u001b[38;5;241m.\u001b[39marray(array, order\u001b[38;5;241m=\u001b[39morder, dtype\u001b[38;5;241m=\u001b[39mdtype)\n\u001b[1;32m    379\u001b[0m \u001b[38;5;28;01melse\u001b[39;00m:\n\u001b[0;32m--> 380\u001b[0m     array \u001b[38;5;241m=\u001b[39m \u001b[43mnumpy\u001b[49m\u001b[38;5;241;43m.\u001b[39;49m\u001b[43masarray\u001b[49m\u001b[43m(\u001b[49m\u001b[43marray\u001b[49m\u001b[43m,\u001b[49m\u001b[43m \u001b[49m\u001b[43morder\u001b[49m\u001b[38;5;241;43m=\u001b[39;49m\u001b[43morder\u001b[49m\u001b[43m,\u001b[49m\u001b[43m \u001b[49m\u001b[43mdtype\u001b[49m\u001b[38;5;241;43m=\u001b[39;49m\u001b[43mdtype\u001b[49m\u001b[43m)\u001b[49m\n\u001b[1;32m    382\u001b[0m \u001b[38;5;66;03m# At this point array is a NumPy ndarray. We convert it to an array\u001b[39;00m\n\u001b[1;32m    383\u001b[0m \u001b[38;5;66;03m# container that is consistent with the input's namespace.\u001b[39;00m\n\u001b[1;32m    384\u001b[0m \u001b[38;5;28;01mreturn\u001b[39;00m xp\u001b[38;5;241m.\u001b[39masarray(array)\n",
      "File \u001b[0;32m~/.pyenv/versions/Jupyter4_P6/lib/python3.11/site-packages/torch/_tensor.py:1030\u001b[0m, in \u001b[0;36mTensor.__array__\u001b[0;34m(self, dtype)\u001b[0m\n\u001b[1;32m   1028\u001b[0m     \u001b[38;5;28;01mreturn\u001b[39;00m handle_torch_function(Tensor\u001b[38;5;241m.\u001b[39m__array__, (\u001b[38;5;28mself\u001b[39m,), \u001b[38;5;28mself\u001b[39m, dtype\u001b[38;5;241m=\u001b[39mdtype)\n\u001b[1;32m   1029\u001b[0m \u001b[38;5;28;01mif\u001b[39;00m dtype \u001b[38;5;129;01mis\u001b[39;00m \u001b[38;5;28;01mNone\u001b[39;00m:\n\u001b[0;32m-> 1030\u001b[0m     \u001b[38;5;28;01mreturn\u001b[39;00m \u001b[38;5;28;43mself\u001b[39;49m\u001b[38;5;241;43m.\u001b[39;49m\u001b[43mnumpy\u001b[49m\u001b[43m(\u001b[49m\u001b[43m)\u001b[49m\n\u001b[1;32m   1031\u001b[0m \u001b[38;5;28;01melse\u001b[39;00m:\n\u001b[1;32m   1032\u001b[0m     \u001b[38;5;28;01mreturn\u001b[39;00m \u001b[38;5;28mself\u001b[39m\u001b[38;5;241m.\u001b[39mnumpy()\u001b[38;5;241m.\u001b[39mastype(dtype, copy\u001b[38;5;241m=\u001b[39m\u001b[38;5;28;01mFalse\u001b[39;00m)\n",
      "\u001b[0;31mTypeError\u001b[0m: can't convert cuda:0 device type tensor to numpy. Use Tensor.cpu() to copy the tensor to host memory first."
     ]
    }
   ],
   "source": [
    "accuracy_score(label, predicted_classes)"
   ]
  },
  {
   "cell_type": "code",
   "execution_count": 28,
   "id": "8379c824-884f-4d1a-adc9-9aacfa33ad02",
   "metadata": {},
   "outputs": [
    {
     "data": {
      "text/plain": [
       "tensor([671., 177., 443., 246.,  97.,  51., 527.,  49.], device='cuda:0')"
      ]
     },
     "execution_count": 28,
     "metadata": {},
     "output_type": "execute_result"
    }
   ],
   "source": [
    "label"
   ]
  },
  {
   "cell_type": "code",
   "execution_count": 27,
   "id": "a45f320f-b7dd-47ca-8b4c-acc5efa2459a",
   "metadata": {},
   "outputs": [
    {
     "data": {
      "text/plain": [
       "tensor([671, 177, 443, 246,  97,  50, 527,  49], device='cuda:0')"
      ]
     },
     "execution_count": 27,
     "metadata": {},
     "output_type": "execute_result"
    }
   ],
   "source": [
    "predicted_classes"
   ]
  },
  {
   "cell_type": "markdown",
   "id": "0ee90105-8f97-4d14-8053-dc909645bc8a",
   "metadata": {
    "id": "nPAJgd2V0Fn0"
   },
   "source": [
    "# Inference"
   ]
  },
  {
   "cell_type": "code",
   "execution_count": null,
   "id": "779b39d1-4649-45cb-80cd-251179421c47",
   "metadata": {},
   "outputs": [],
   "source": [
    "import timm\n",
    "model = timm.create_model('efficientnet_b0', pretrained=True)\n",
    "model.classifier = nn.Linear(1280,NUM_CLASSES)"
   ]
  },
  {
   "cell_type": "code",
   "execution_count": 63,
   "id": "25c5a122-0388-40b5-b547-0105715c807c",
   "metadata": {},
   "outputs": [
    {
     "name": "stdout",
     "output_type": "stream",
     "text": [
      "/mnt/d/Jupyter-Goodyoung/diabetes/data/Train/TS/TS10/D/08/D08001/14/측면/D_08_D08001_고구마라떼_14_02.jpg\n",
      "529\n",
      "오곡라떼\n"
     ]
    }
   ],
   "source": [
    "# label data load\n",
    "import json\n",
    "with open(f\"{BASE}/label_mapping_data.json\") as f:\n",
    "    data = json.load(f)\n",
    "label_data = list(data.keys())\n",
    "# transform\n",
    "transform = A.Compose([\n",
    "        A.Resize(480,480),\n",
    "        A.Normalize(0.5,0.5),\n",
    "        ToTensorV2()\n",
    "])\n",
    "\n",
    "# load test path\n",
    "num= 23050\n",
    "test_dataset = CustomDataset([combined_imgs[num]], transform = transform, mode = 'test')\n",
    "test_dataloader = DataLoader(\n",
    "    dataset=test_dataset,\n",
    "    batch_size=1,\n",
    "    shuffle=False\n",
    ")\n",
    "\n",
    "if os.path.exists(MODEL_SAVE):\n",
    "    \n",
    "    model.load_state_dict(torch.load(MODEL_SAVE)[\"model_state_dict\"])\n",
    "model.to(DEVICE)\n",
    "model.eval()  # 모델을 평가 모드로 설정\n",
    "\n",
    "with torch.no_grad():\n",
    "    for imgs in test_dataloader:  # 테스트 데이터로더 사용\n",
    "        imgs = imgs.to(DEVICE)\n",
    "        # 예측\n",
    "        output = model(imgs)\n",
    "        \n",
    "        # 확률값으로 변환\n",
    "        probabilities = F.softmax(output, dim=1) # 확률로 변환 -> softmax\n",
    "        # # 가장 높은 확률을 가진 클래스 선택\n",
    "        predicted_classes = torch.argmax(probabilities, dim=1)\n",
    "        # # 예측 결과 저장\n",
    "        # predictions.extend(predicted_classes.cpu().numpy())\n",
    "\n",
    "# 예측 결과 출력\n",
    "print(combined_imgs[num])\n",
    "print(predicted_classes.item())\n",
    "print(label_data[predicted_classes.item()])"
   ]
  },
  {
   "cell_type": "code",
   "execution_count": null,
   "id": "10273906-2dc6-4f05-a694-e3d40189feb5",
   "metadata": {},
   "outputs": [],
   "source": [
    "갈비치킨\n",
    "치킨"
   ]
  },
  {
   "cell_type": "code",
   "execution_count": null,
   "id": "2a1748c1-3978-4384-bc6f-f8e48656809d",
   "metadata": {},
   "outputs": [],
   "source": []
  }
 ],
 "metadata": {
  "kernelspec": {
   "display_name": "Python 3 (ipykernel)",
   "language": "python",
   "name": "python3"
  },
  "language_info": {
   "codemirror_mode": {
    "name": "ipython",
    "version": 3
   },
   "file_extension": ".py",
   "mimetype": "text/x-python",
   "name": "python",
   "nbconvert_exporter": "python",
   "pygments_lexer": "ipython3",
   "version": "3.11.6"
  }
 },
 "nbformat": 4,
 "nbformat_minor": 5
}
