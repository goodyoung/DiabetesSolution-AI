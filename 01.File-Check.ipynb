{
 "cells": [
  {
   "cell_type": "code",
   "execution_count": 1,
   "id": "a43cc896-dbbb-4516-a3ed-59990e438370",
   "metadata": {},
   "outputs": [],
   "source": [
    "from pathlib import Path"
   ]
  },
  {
   "cell_type": "code",
   "execution_count": 2,
   "id": "41ec0723-3859-4373-a824-345d6e14aab7",
   "metadata": {},
   "outputs": [],
   "source": [
    "# HOME = Path.home()\n",
    "HOME = Path(\"/mnt/d/Jupyter-Goodyoung\")"
   ]
  },
  {
   "cell_type": "code",
   "execution_count": 3,
   "id": "8f77b5af-140f-4ca9-abc9-209e23c70eb7",
   "metadata": {},
   "outputs": [],
   "source": [
    "dataset = HOME / \"diabetes/data/\""
   ]
  },
  {
   "cell_type": "code",
   "execution_count": 4,
   "id": "685b1221-4f56-49c3-be7c-5daf81f900c7",
   "metadata": {},
   "outputs": [],
   "source": [
    "TRAIN = dataset / \"Train\"\n",
    "VALID = dataset / \"Valid\""
   ]
  },
  {
   "cell_type": "markdown",
   "id": "860734b7-eadd-406f-b113-876240c33f61",
   "metadata": {},
   "source": [
    "## Train image / Label 같은지 확인"
   ]
  },
  {
   "cell_type": "code",
   "execution_count": 66,
   "id": "853f1b0e-9255-4ac9-9e96-7e2fcdc745f6",
   "metadata": {},
   "outputs": [],
   "source": [
    "TL = TRAIN / \"TL\" # Train Label\n",
    "TS = TRAIN / \"TS\""
   ]
  },
  {
   "cell_type": "markdown",
   "id": "a4e651d6-5b95-4e08-860a-fb6407a587f3",
   "metadata": {},
   "source": [
    "### TL/TS 폴더 개수 같은지 판별"
   ]
  },
  {
   "cell_type": "code",
   "execution_count": 67,
   "id": "d41039dc-5a33-4166-be87-f215153170c3",
   "metadata": {},
   "outputs": [
    {
     "data": {
      "text/plain": [
       "True"
      ]
     },
     "execution_count": 67,
     "metadata": {},
     "output_type": "execute_result"
    }
   ],
   "source": [
    "TL_file_list = [file for file in TL.iterdir() if file.is_dir()]\n",
    "TS_file_list = [file for file in TS.iterdir() if file.is_dir()]\n",
    "len(TL_file_list)==len(TS_file_list)"
   ]
  },
  {
   "cell_type": "markdown",
   "id": "9eb2fd95-c35b-4de8-85cf-354adcfae278",
   "metadata": {},
   "source": [
    "### 대분류 같은지 판별"
   ]
  },
  {
   "cell_type": "code",
   "execution_count": 68,
   "id": "0535fa1b-2ce6-4c6a-9430-48803ac6f8f8",
   "metadata": {},
   "outputs": [
    {
     "data": {
      "text/plain": [
       "True"
      ]
     },
     "execution_count": 68,
     "metadata": {},
     "output_type": "execute_result"
    }
   ],
   "source": [
    "TL_one_path_list = [file for one_path in TL_file_list for file in one_path.iterdir() if file.is_dir()]\n",
    "TS_one_path_list = [file for one_path in TS_file_list for file in one_path.iterdir() if file.is_dir()]\n",
    "len(TL_file_list)==len(TS_file_list)"
   ]
  },
  {
   "cell_type": "markdown",
   "id": "a0c6c914-8947-4cac-872e-8a712cd0c044",
   "metadata": {},
   "source": [
    "### 메뉴 key code 같은지 판별"
   ]
  },
  {
   "cell_type": "code",
   "execution_count": 91,
   "id": "c975f9f8-4448-4973-ad01-2611cc8659bb",
   "metadata": {},
   "outputs": [
    {
     "data": {
      "text/plain": [
       "True"
      ]
     },
     "execution_count": 91,
     "metadata": {},
     "output_type": "execute_result"
    }
   ],
   "source": [
    "TL_key_code_path = [key_code_path for one_path in TL_one_path_list for two_path in one_path.iterdir() for key_code_path in two_path.iterdir() if key_code_path.is_dir()]\n",
    "TS_key_code_path = [key_code_path for one_path in TS_one_path_list for two_path in one_path.iterdir() for key_code_path in two_path.iterdir() if key_code_path.is_dir()]\n",
    "\n",
    "if len(TL_key_code_path) != len(TS_key_code_path): # 다르면 ts의 개수만큼 복제\n",
    "    print(\"Differ\")\n",
    "    TL_key_code_path = TL_key_code_path[:len(TS_key_code_path)]\n",
    "    \n",
    "len(TL_key_code_path) == len(TS_key_code_path)"
   ]
  },
  {
   "cell_type": "markdown",
   "id": "0d7d5706-995b-49a0-920c-e228ac5b991b",
   "metadata": {},
   "source": [
    "### 이미지, 라벨 개수 맞는지 확인"
   ]
  },
  {
   "cell_type": "code",
   "execution_count": 112,
   "id": "ea0211ff-ac47-44d0-8dbc-9641063c8e90",
   "metadata": {},
   "outputs": [
    {
     "data": {
      "text/plain": [
       "False"
      ]
     },
     "execution_count": 112,
     "metadata": {},
     "output_type": "execute_result"
    }
   ],
   "source": [
    "TL_file = [file for key_code in TL_key_code_path for cnt in key_code.iterdir() for up_down in cnt.iterdir() for file in up_down.glob(\"*.json\") if file.is_file()]\n",
    "TS_file = [file for key_code in TS_key_code_path for cnt in key_code.iterdir() for up_down in cnt.iterdir() for file in up_down.glob(\"*.jpg\") if file.is_file()]\n",
    "\n",
    "if len(TL_file) != len(TS_file): # 다르면 ts의 개수만큼 복제\n",
    "    print(\"Differ\")\n",
    "    TL_file = TL_file[:len(TS_file)]\n",
    "    \n",
    "len(TL_file) == len(TS_file)"
   ]
  },
  {
   "cell_type": "markdown",
   "id": "d505c2ee-acbb-450c-99df-356f46225a46",
   "metadata": {},
   "source": [
    "## Total code\n",
    "26093"
   ]
  },
  {
   "cell_type": "code",
   "execution_count": 120,
   "id": "b59ca462-47f4-494a-bcbe-17ca422937f1",
   "metadata": {},
   "outputs": [
    {
     "name": "stdout",
     "output_type": "stream",
     "text": [
      "Differ\n"
     ]
    },
    {
     "data": {
      "text/plain": [
       "True"
      ]
     },
     "execution_count": 120,
     "metadata": {},
     "output_type": "execute_result"
    }
   ],
   "source": [
    "[TL = TRAIN / \"TL\" # Train Label\n",
    "TS = TRAIN / \"TS\"\n",
    "\n",
    "# TL, TS 디렉토리의 하위 디렉토리 목록 가져오기\n",
    "TL_directories = list(filter(Path.is_dir, TL.iterdir()))\n",
    "TS_directories = list(filter(Path.is_dir, TS.iterdir()))\n",
    "\n",
    "# 대분류 디렉토리 목록 불러오기\n",
    "def get_all_main_dir(directory_list):\n",
    "    return [subdir for directory in directory_list for subdir in directory.iterdir() if subdir.is_dir()]\n",
    "\n",
    "TL_subdirectories = get_all_main_dir(TL_directories)\n",
    "TS_subdirectories = get_all_main_dir(TS_directories)\n",
    "\n",
    "#  대분류 밑 파일 가져오기\n",
    "def get_all_files(directory_list, extension):\n",
    "    return [file for directory in directory_list for file in directory.rglob(\"*.\" + extension) if file.is_file()] # rglob -> 하위 디렉토리에서 다 찾음\n",
    "\n",
    "TL_files = get_all_files(TL_subdirectories, \"json\")\n",
    "TS_files = get_all_files(TS_subdirectories, \"jpg\")\n",
    "\n",
    "# 파일 개수 비교하여 맞추기\n",
    "if len(TL_files) != len(TS_files):\n",
    "    print(\"Differ\")\n",
    "    TL_files = TL_files[:len(TS_files)]\n",
    "\n",
    "len(TL_files) == len(TS_files)]"
   ]
  },
  {
   "cell_type": "markdown",
   "id": "caaccc27-d4ca-4a7d-95d3-96160ffa7287",
   "metadata": {},
   "source": [
    "## Valid image / Label 같은지 확인\n",
    "23227"
   ]
  },
  {
   "cell_type": "code",
   "execution_count": 125,
   "id": "3f269682-574f-4954-8a28-eeca8df9b92a",
   "metadata": {},
   "outputs": [
    {
     "data": {
      "text/plain": [
       "True"
      ]
     },
     "execution_count": 125,
     "metadata": {},
     "output_type": "execute_result"
    }
   ],
   "source": [
    "VL = VALID / \"VL\" # Valid Label\n",
    "VS = VALID / \"VS\"\n",
    "\n",
    "# VL, VS 디렉토리의 하위 디렉토리 목록 가져오기\n",
    "VL_directories = list(filter(Path.is_dir, VL.iterdir()))\n",
    "VS_directories = list(filter(Path.is_dir, VS.iterdir()))\n",
    "\n",
    "\n",
    "def get_all_main_dir(directory_list):\n",
    "    return [subdir for directory in directory_list for subdir in directory.iterdir() if subdir.is_dir()]\n",
    "\n",
    "VL_subdirectories = get_all_main_dir(VL_directories)\n",
    "VS_subdirectories = get_all_main_dir(VS_directories)\n",
    "\n",
    "\n",
    "def get_all_files(directory_list, extension):\n",
    "    return [file for directory in directory_list for file in directory.rglob(\"*.\" + extension) if file.is_file()]\n",
    "\n",
    "VL_files = get_all_files(VL_subdirectories, \"json\")\n",
    "VS_files = get_all_files(VS_subdirectories, \"jpg\")\n",
    "\n",
    "# 파일 개수 비교하여 맞추기\n",
    "if len(VL_files) != len(VS_files):\n",
    "    print(\"Differ\")\n",
    "    VL_files = VL_files[:len(VS_files)]\n",
    "\n",
    "# 파일 개수 일치 여부 확인\n",
    "len(VL_files) == len(VS_files)"
   ]
  },
  {
   "cell_type": "code",
   "execution_count": null,
   "id": "84f88efc-f2bc-4be6-8953-45b843772743",
   "metadata": {},
   "outputs": [],
   "source": []
  }
 ],
 "metadata": {
  "kernelspec": {
   "display_name": "Python 3 (ipykernel)",
   "language": "python",
   "name": "python3"
  },
  "language_info": {
   "codemirror_mode": {
    "name": "ipython",
    "version": 3
   },
   "file_extension": ".py",
   "mimetype": "text/x-python",
   "name": "python",
   "nbconvert_exporter": "python",
   "pygments_lexer": "ipython3",
   "version": "3.11.6"
  }
 },
 "nbformat": 4,
 "nbformat_minor": 5
}
